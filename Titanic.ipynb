{
  "nbformat": 4,
  "nbformat_minor": 0,
  "metadata": {
    "colab": {
      "provenance": [],
      "gpuType": "T4",
      "authorship_tag": "ABX9TyMV2iZq8t5pCOra4z/eEzwH",
      "include_colab_link": true
    },
    "kernelspec": {
      "name": "python3",
      "display_name": "Python 3"
    },
    "language_info": {
      "name": "python"
    },
    "accelerator": "GPU"
  },
  "cells": [
    {
      "cell_type": "markdown",
      "metadata": {
        "id": "view-in-github",
        "colab_type": "text"
      },
      "source": [
        "<a href=\"https://colab.research.google.com/github/Sathwik-ch/EDA/blob/main/Titanic.ipynb\" target=\"_parent\"><img src=\"https://colab.research.google.com/assets/colab-badge.svg\" alt=\"Open In Colab\"/></a>"
      ]
    },
    {
      "cell_type": "code",
      "source": [
        "import pandas as pd\n"
      ],
      "metadata": {
        "id": "EZal6dRcEa8P"
      },
      "execution_count": 1,
      "outputs": []
    },
    {
      "cell_type": "code",
      "source": [
        "df = pd.read_csv(\"Titanic-Dataset.csv\")\n",
        "print(\"File loaded successfully!\")"
      ],
      "metadata": {
        "id": "5NcWN4_AEd3P",
        "outputId": "1e6322c0-5a41-4d23-d405-d705db25f51f",
        "colab": {
          "base_uri": "https://localhost:8080/"
        }
      },
      "execution_count": 2,
      "outputs": [
        {
          "output_type": "stream",
          "name": "stdout",
          "text": [
            "File loaded successfully!\n"
          ]
        }
      ]
    },
    {
      "cell_type": "code",
      "source": [
        "print(df.shape)"
      ],
      "metadata": {
        "id": "-cGCCp6_EtTL",
        "outputId": "98861342-c84c-4c8a-b2b2-f4f787707442",
        "colab": {
          "base_uri": "https://localhost:8080/"
        }
      },
      "execution_count": 3,
      "outputs": [
        {
          "output_type": "stream",
          "name": "stdout",
          "text": [
            "(891, 12)\n"
          ]
        }
      ]
    },
    {
      "cell_type": "code",
      "source": [
        "print(df.head())"
      ],
      "metadata": {
        "id": "RYz-4QvbEzIb",
        "outputId": "75d7d471-abc8-433c-c86b-53b7f088a0a7",
        "colab": {
          "base_uri": "https://localhost:8080/"
        }
      },
      "execution_count": 4,
      "outputs": [
        {
          "output_type": "stream",
          "name": "stdout",
          "text": [
            "   PassengerId  Survived  Pclass  \\\n",
            "0            1         0       3   \n",
            "1            2         1       1   \n",
            "2            3         1       3   \n",
            "3            4         1       1   \n",
            "4            5         0       3   \n",
            "\n",
            "                                                Name     Sex   Age  SibSp  \\\n",
            "0                            Braund, Mr. Owen Harris    male  22.0      1   \n",
            "1  Cumings, Mrs. John Bradley (Florence Briggs Th...  female  38.0      1   \n",
            "2                             Heikkinen, Miss. Laina  female  26.0      0   \n",
            "3       Futrelle, Mrs. Jacques Heath (Lily May Peel)  female  35.0      1   \n",
            "4                           Allen, Mr. William Henry    male  35.0      0   \n",
            "\n",
            "   Parch            Ticket     Fare Cabin Embarked  \n",
            "0      0         A/5 21171   7.2500   NaN        S  \n",
            "1      0          PC 17599  71.2833   C85        C  \n",
            "2      0  STON/O2. 3101282   7.9250   NaN        S  \n",
            "3      0            113803  53.1000  C123        S  \n",
            "4      0            373450   8.0500   NaN        S  \n"
          ]
        }
      ]
    },
    {
      "cell_type": "code",
      "source": [
        "print(df.tail())"
      ],
      "metadata": {
        "id": "vTFTuYGSFxzT",
        "outputId": "77ebac53-c1f6-4ab3-f6c8-19b0be881595",
        "colab": {
          "base_uri": "https://localhost:8080/"
        }
      },
      "execution_count": 5,
      "outputs": [
        {
          "output_type": "stream",
          "name": "stdout",
          "text": [
            "     PassengerId  Survived  Pclass                                      Name  \\\n",
            "886          887         0       2                     Montvila, Rev. Juozas   \n",
            "887          888         1       1              Graham, Miss. Margaret Edith   \n",
            "888          889         0       3  Johnston, Miss. Catherine Helen \"Carrie\"   \n",
            "889          890         1       1                     Behr, Mr. Karl Howell   \n",
            "890          891         0       3                       Dooley, Mr. Patrick   \n",
            "\n",
            "        Sex   Age  SibSp  Parch      Ticket   Fare Cabin Embarked  \n",
            "886    male  27.0      0      0      211536  13.00   NaN        S  \n",
            "887  female  19.0      0      0      112053  30.00   B42        S  \n",
            "888  female   NaN      1      2  W./C. 6607  23.45   NaN        S  \n",
            "889    male  26.0      0      0      111369  30.00  C148        C  \n",
            "890    male  32.0      0      0      370376   7.75   NaN        Q  \n"
          ]
        }
      ]
    },
    {
      "cell_type": "code",
      "source": [
        "print(df)"
      ],
      "metadata": {
        "id": "7-mksP0sF7iO",
        "outputId": "e135e512-579f-401d-a41b-1c9bd35a1db3",
        "colab": {
          "base_uri": "https://localhost:8080/"
        }
      },
      "execution_count": 6,
      "outputs": [
        {
          "output_type": "stream",
          "name": "stdout",
          "text": [
            "     PassengerId  Survived  Pclass  \\\n",
            "0              1         0       3   \n",
            "1              2         1       1   \n",
            "2              3         1       3   \n",
            "3              4         1       1   \n",
            "4              5         0       3   \n",
            "..           ...       ...     ...   \n",
            "886          887         0       2   \n",
            "887          888         1       1   \n",
            "888          889         0       3   \n",
            "889          890         1       1   \n",
            "890          891         0       3   \n",
            "\n",
            "                                                  Name     Sex   Age  SibSp  \\\n",
            "0                              Braund, Mr. Owen Harris    male  22.0      1   \n",
            "1    Cumings, Mrs. John Bradley (Florence Briggs Th...  female  38.0      1   \n",
            "2                               Heikkinen, Miss. Laina  female  26.0      0   \n",
            "3         Futrelle, Mrs. Jacques Heath (Lily May Peel)  female  35.0      1   \n",
            "4                             Allen, Mr. William Henry    male  35.0      0   \n",
            "..                                                 ...     ...   ...    ...   \n",
            "886                              Montvila, Rev. Juozas    male  27.0      0   \n",
            "887                       Graham, Miss. Margaret Edith  female  19.0      0   \n",
            "888           Johnston, Miss. Catherine Helen \"Carrie\"  female   NaN      1   \n",
            "889                              Behr, Mr. Karl Howell    male  26.0      0   \n",
            "890                                Dooley, Mr. Patrick    male  32.0      0   \n",
            "\n",
            "     Parch            Ticket     Fare Cabin Embarked  \n",
            "0        0         A/5 21171   7.2500   NaN        S  \n",
            "1        0          PC 17599  71.2833   C85        C  \n",
            "2        0  STON/O2. 3101282   7.9250   NaN        S  \n",
            "3        0            113803  53.1000  C123        S  \n",
            "4        0            373450   8.0500   NaN        S  \n",
            "..     ...               ...      ...   ...      ...  \n",
            "886      0            211536  13.0000   NaN        S  \n",
            "887      0            112053  30.0000   B42        S  \n",
            "888      2        W./C. 6607  23.4500   NaN        S  \n",
            "889      0            111369  30.0000  C148        C  \n",
            "890      0            370376   7.7500   NaN        Q  \n",
            "\n",
            "[891 rows x 12 columns]\n"
          ]
        }
      ]
    },
    {
      "cell_type": "code",
      "source": [
        "print(df.columns)"
      ],
      "metadata": {
        "id": "pxR6obfMIXdN",
        "outputId": "2536a63e-d333-49a2-cdd2-d412d181cd52",
        "colab": {
          "base_uri": "https://localhost:8080/"
        }
      },
      "execution_count": 7,
      "outputs": [
        {
          "output_type": "stream",
          "name": "stdout",
          "text": [
            "Index(['PassengerId', 'Survived', 'Pclass', 'Name', 'Sex', 'Age', 'SibSp',\n",
            "       'Parch', 'Ticket', 'Fare', 'Cabin', 'Embarked'],\n",
            "      dtype='object')\n"
          ]
        }
      ]
    },
    {
      "cell_type": "code",
      "source": [
        "print(df.info())"
      ],
      "metadata": {
        "id": "GdTp0-UNIdyx",
        "outputId": "7135e249-3706-49a1-f8ef-16f19fcd029d",
        "colab": {
          "base_uri": "https://localhost:8080/"
        }
      },
      "execution_count": 8,
      "outputs": [
        {
          "output_type": "stream",
          "name": "stdout",
          "text": [
            "<class 'pandas.core.frame.DataFrame'>\n",
            "RangeIndex: 891 entries, 0 to 890\n",
            "Data columns (total 12 columns):\n",
            " #   Column       Non-Null Count  Dtype  \n",
            "---  ------       --------------  -----  \n",
            " 0   PassengerId  891 non-null    int64  \n",
            " 1   Survived     891 non-null    int64  \n",
            " 2   Pclass       891 non-null    int64  \n",
            " 3   Name         891 non-null    object \n",
            " 4   Sex          891 non-null    object \n",
            " 5   Age          714 non-null    float64\n",
            " 6   SibSp        891 non-null    int64  \n",
            " 7   Parch        891 non-null    int64  \n",
            " 8   Ticket       891 non-null    object \n",
            " 9   Fare         891 non-null    float64\n",
            " 10  Cabin        204 non-null    object \n",
            " 11  Embarked     889 non-null    object \n",
            "dtypes: float64(2), int64(5), object(5)\n",
            "memory usage: 83.7+ KB\n",
            "None\n"
          ]
        }
      ]
    },
    {
      "cell_type": "code",
      "source": [
        "print(df.describe())"
      ],
      "metadata": {
        "id": "XStFiKTFInWt",
        "outputId": "13543247-e948-4f79-dcbf-abfd827f74a5",
        "colab": {
          "base_uri": "https://localhost:8080/"
        }
      },
      "execution_count": 9,
      "outputs": [
        {
          "output_type": "stream",
          "name": "stdout",
          "text": [
            "       PassengerId    Survived      Pclass         Age       SibSp  \\\n",
            "count   891.000000  891.000000  891.000000  714.000000  891.000000   \n",
            "mean    446.000000    0.383838    2.308642   29.699118    0.523008   \n",
            "std     257.353842    0.486592    0.836071   14.526497    1.102743   \n",
            "min       1.000000    0.000000    1.000000    0.420000    0.000000   \n",
            "25%     223.500000    0.000000    2.000000   20.125000    0.000000   \n",
            "50%     446.000000    0.000000    3.000000   28.000000    0.000000   \n",
            "75%     668.500000    1.000000    3.000000   38.000000    1.000000   \n",
            "max     891.000000    1.000000    3.000000   80.000000    8.000000   \n",
            "\n",
            "            Parch        Fare  \n",
            "count  891.000000  891.000000  \n",
            "mean     0.381594   32.204208  \n",
            "std      0.806057   49.693429  \n",
            "min      0.000000    0.000000  \n",
            "25%      0.000000    7.910400  \n",
            "50%      0.000000   14.454200  \n",
            "75%      0.000000   31.000000  \n",
            "max      6.000000  512.329200  \n"
          ]
        }
      ]
    },
    {
      "cell_type": "code",
      "source": [
        "print(df['Survived'])\n"
      ],
      "metadata": {
        "id": "idyugSGFJ000",
        "outputId": "9b35c8e6-2e09-4cad-ef9d-412d84b27f7a",
        "colab": {
          "base_uri": "https://localhost:8080/"
        }
      },
      "execution_count": 10,
      "outputs": [
        {
          "output_type": "stream",
          "name": "stdout",
          "text": [
            "0      0\n",
            "1      1\n",
            "2      1\n",
            "3      1\n",
            "4      0\n",
            "      ..\n",
            "886    0\n",
            "887    1\n",
            "888    0\n",
            "889    1\n",
            "890    0\n",
            "Name: Survived, Length: 891, dtype: int64\n"
          ]
        }
      ]
    },
    {
      "cell_type": "code",
      "source": [
        "print(df[['Name', 'Sex']])\n"
      ],
      "metadata": {
        "id": "2Hu8kKujUuF0",
        "outputId": "53793b55-fc9e-4be4-ca2d-ac3166dd86fb",
        "colab": {
          "base_uri": "https://localhost:8080/"
        }
      },
      "execution_count": 11,
      "outputs": [
        {
          "output_type": "stream",
          "name": "stdout",
          "text": [
            "                                                  Name     Sex\n",
            "0                              Braund, Mr. Owen Harris    male\n",
            "1    Cumings, Mrs. John Bradley (Florence Briggs Th...  female\n",
            "2                               Heikkinen, Miss. Laina  female\n",
            "3         Futrelle, Mrs. Jacques Heath (Lily May Peel)  female\n",
            "4                             Allen, Mr. William Henry    male\n",
            "..                                                 ...     ...\n",
            "886                              Montvila, Rev. Juozas    male\n",
            "887                       Graham, Miss. Margaret Edith  female\n",
            "888           Johnston, Miss. Catherine Helen \"Carrie\"  female\n",
            "889                              Behr, Mr. Karl Howell    male\n",
            "890                                Dooley, Mr. Patrick    male\n",
            "\n",
            "[891 rows x 2 columns]\n"
          ]
        }
      ]
    },
    {
      "cell_type": "code",
      "source": [
        "print(df.iloc[1])\n"
      ],
      "metadata": {
        "id": "5rqDqKljVORy",
        "outputId": "fff61b57-9540-4db1-dc3f-aa04ae9c47ac",
        "colab": {
          "base_uri": "https://localhost:8080/"
        }
      },
      "execution_count": 12,
      "outputs": [
        {
          "output_type": "stream",
          "name": "stdout",
          "text": [
            "PassengerId                                                    2\n",
            "Survived                                                       1\n",
            "Pclass                                                         1\n",
            "Name           Cumings, Mrs. John Bradley (Florence Briggs Th...\n",
            "Sex                                                       female\n",
            "Age                                                         38.0\n",
            "SibSp                                                          1\n",
            "Parch                                                          0\n",
            "Ticket                                                  PC 17599\n",
            "Fare                                                     71.2833\n",
            "Cabin                                                        C85\n",
            "Embarked                                                       C\n",
            "Name: 1, dtype: object\n"
          ]
        }
      ]
    },
    {
      "cell_type": "code",
      "source": [
        "print(df[df['Age'] > 30])\n"
      ],
      "metadata": {
        "id": "hYhATDnIWEsX",
        "outputId": "d33a3f7d-2efa-4603-9138-2318df015dd4",
        "colab": {
          "base_uri": "https://localhost:8080/"
        }
      },
      "execution_count": 13,
      "outputs": [
        {
          "output_type": "stream",
          "name": "stdout",
          "text": [
            "     PassengerId  Survived  Pclass  \\\n",
            "1              2         1       1   \n",
            "3              4         1       1   \n",
            "4              5         0       3   \n",
            "6              7         0       1   \n",
            "11            12         1       1   \n",
            "..           ...       ...     ...   \n",
            "873          874         0       3   \n",
            "879          880         1       1   \n",
            "881          882         0       3   \n",
            "885          886         0       3   \n",
            "890          891         0       3   \n",
            "\n",
            "                                                  Name     Sex   Age  SibSp  \\\n",
            "1    Cumings, Mrs. John Bradley (Florence Briggs Th...  female  38.0      1   \n",
            "3         Futrelle, Mrs. Jacques Heath (Lily May Peel)  female  35.0      1   \n",
            "4                             Allen, Mr. William Henry    male  35.0      0   \n",
            "6                              McCarthy, Mr. Timothy J    male  54.0      0   \n",
            "11                            Bonnell, Miss. Elizabeth  female  58.0      0   \n",
            "..                                                 ...     ...   ...    ...   \n",
            "873                        Vander Cruyssen, Mr. Victor    male  47.0      0   \n",
            "879      Potter, Mrs. Thomas Jr (Lily Alexenia Wilson)  female  56.0      0   \n",
            "881                                 Markun, Mr. Johann    male  33.0      0   \n",
            "885               Rice, Mrs. William (Margaret Norton)  female  39.0      0   \n",
            "890                                Dooley, Mr. Patrick    male  32.0      0   \n",
            "\n",
            "     Parch    Ticket     Fare Cabin Embarked  \n",
            "1        0  PC 17599  71.2833   C85        C  \n",
            "3        0    113803  53.1000  C123        S  \n",
            "4        0    373450   8.0500   NaN        S  \n",
            "6        0     17463  51.8625   E46        S  \n",
            "11       0    113783  26.5500  C103        S  \n",
            "..     ...       ...      ...   ...      ...  \n",
            "873      0    345765   9.0000   NaN        S  \n",
            "879      1     11767  83.1583   C50        C  \n",
            "881      0    349257   7.8958   NaN        S  \n",
            "885      5    382652  29.1250   NaN        Q  \n",
            "890      0    370376   7.7500   NaN        Q  \n",
            "\n",
            "[305 rows x 12 columns]\n"
          ]
        }
      ]
    },
    {
      "cell_type": "code",
      "source": [
        "print(df.isnull().sum())\n"
      ],
      "metadata": {
        "id": "nHLIFg8KWI_n",
        "outputId": "728e5b14-c529-4d38-abc4-0b63802da4cf",
        "colab": {
          "base_uri": "https://localhost:8080/"
        }
      },
      "execution_count": 14,
      "outputs": [
        {
          "output_type": "stream",
          "name": "stdout",
          "text": [
            "PassengerId      0\n",
            "Survived         0\n",
            "Pclass           0\n",
            "Name             0\n",
            "Sex              0\n",
            "Age            177\n",
            "SibSp            0\n",
            "Parch            0\n",
            "Ticket           0\n",
            "Fare             0\n",
            "Cabin          687\n",
            "Embarked         2\n",
            "dtype: int64\n"
          ]
        }
      ]
    },
    {
      "cell_type": "code",
      "source": [
        "df.dropna(inplace=True)\n",
        "\n"
      ],
      "metadata": {
        "id": "0vdS1I1rWTro"
      },
      "execution_count": 15,
      "outputs": []
    },
    {
      "cell_type": "code",
      "source": [
        "print(df)"
      ],
      "metadata": {
        "id": "4ShEAYZ4OoIx",
        "outputId": "e7aaf870-04dc-4cb8-f615-d140975648c9",
        "colab": {
          "base_uri": "https://localhost:8080/"
        }
      },
      "execution_count": 16,
      "outputs": [
        {
          "output_type": "stream",
          "name": "stdout",
          "text": [
            "     PassengerId  Survived  Pclass  \\\n",
            "1              2         1       1   \n",
            "3              4         1       1   \n",
            "6              7         0       1   \n",
            "10            11         1       3   \n",
            "11            12         1       1   \n",
            "..           ...       ...     ...   \n",
            "871          872         1       1   \n",
            "872          873         0       1   \n",
            "879          880         1       1   \n",
            "887          888         1       1   \n",
            "889          890         1       1   \n",
            "\n",
            "                                                  Name     Sex   Age  SibSp  \\\n",
            "1    Cumings, Mrs. John Bradley (Florence Briggs Th...  female  38.0      1   \n",
            "3         Futrelle, Mrs. Jacques Heath (Lily May Peel)  female  35.0      1   \n",
            "6                              McCarthy, Mr. Timothy J    male  54.0      0   \n",
            "10                     Sandstrom, Miss. Marguerite Rut  female   4.0      1   \n",
            "11                            Bonnell, Miss. Elizabeth  female  58.0      0   \n",
            "..                                                 ...     ...   ...    ...   \n",
            "871   Beckwith, Mrs. Richard Leonard (Sallie Monypeny)  female  47.0      1   \n",
            "872                           Carlsson, Mr. Frans Olof    male  33.0      0   \n",
            "879      Potter, Mrs. Thomas Jr (Lily Alexenia Wilson)  female  56.0      0   \n",
            "887                       Graham, Miss. Margaret Edith  female  19.0      0   \n",
            "889                              Behr, Mr. Karl Howell    male  26.0      0   \n",
            "\n",
            "     Parch    Ticket     Fare        Cabin Embarked  \n",
            "1        0  PC 17599  71.2833          C85        C  \n",
            "3        0    113803  53.1000         C123        S  \n",
            "6        0     17463  51.8625          E46        S  \n",
            "10       1   PP 9549  16.7000           G6        S  \n",
            "11       0    113783  26.5500         C103        S  \n",
            "..     ...       ...      ...          ...      ...  \n",
            "871      1     11751  52.5542          D35        S  \n",
            "872      0       695   5.0000  B51 B53 B55        S  \n",
            "879      1     11767  83.1583          C50        C  \n",
            "887      0    112053  30.0000          B42        S  \n",
            "889      0    111369  30.0000         C148        C  \n",
            "\n",
            "[183 rows x 12 columns]\n"
          ]
        }
      ]
    },
    {
      "cell_type": "code",
      "source": [
        "df.fillna(\"Unknown\", inplace=True)"
      ],
      "metadata": {
        "id": "Xxhb1KehOyp1"
      },
      "execution_count": 17,
      "outputs": []
    },
    {
      "cell_type": "code",
      "source": [
        "df = df.rename(columns={'Name': 'Full Name', 'Age': 'Years'})\n",
        "print(df)\n"
      ],
      "metadata": {
        "id": "e58grgZDO5Sl",
        "outputId": "a7a86fb0-57a9-4660-8aef-41a0481f95f7",
        "colab": {
          "base_uri": "https://localhost:8080/"
        }
      },
      "execution_count": 18,
      "outputs": [
        {
          "output_type": "stream",
          "name": "stdout",
          "text": [
            "     PassengerId  Survived  Pclass  \\\n",
            "1              2         1       1   \n",
            "3              4         1       1   \n",
            "6              7         0       1   \n",
            "10            11         1       3   \n",
            "11            12         1       1   \n",
            "..           ...       ...     ...   \n",
            "871          872         1       1   \n",
            "872          873         0       1   \n",
            "879          880         1       1   \n",
            "887          888         1       1   \n",
            "889          890         1       1   \n",
            "\n",
            "                                             Full Name     Sex  Years  SibSp  \\\n",
            "1    Cumings, Mrs. John Bradley (Florence Briggs Th...  female   38.0      1   \n",
            "3         Futrelle, Mrs. Jacques Heath (Lily May Peel)  female   35.0      1   \n",
            "6                              McCarthy, Mr. Timothy J    male   54.0      0   \n",
            "10                     Sandstrom, Miss. Marguerite Rut  female    4.0      1   \n",
            "11                            Bonnell, Miss. Elizabeth  female   58.0      0   \n",
            "..                                                 ...     ...    ...    ...   \n",
            "871   Beckwith, Mrs. Richard Leonard (Sallie Monypeny)  female   47.0      1   \n",
            "872                           Carlsson, Mr. Frans Olof    male   33.0      0   \n",
            "879      Potter, Mrs. Thomas Jr (Lily Alexenia Wilson)  female   56.0      0   \n",
            "887                       Graham, Miss. Margaret Edith  female   19.0      0   \n",
            "889                              Behr, Mr. Karl Howell    male   26.0      0   \n",
            "\n",
            "     Parch    Ticket     Fare        Cabin Embarked  \n",
            "1        0  PC 17599  71.2833          C85        C  \n",
            "3        0    113803  53.1000         C123        S  \n",
            "6        0     17463  51.8625          E46        S  \n",
            "10       1   PP 9549  16.7000           G6        S  \n",
            "11       0    113783  26.5500         C103        S  \n",
            "..     ...       ...      ...          ...      ...  \n",
            "871      1     11751  52.5542          D35        S  \n",
            "872      0       695   5.0000  B51 B53 B55        S  \n",
            "879      1     11767  83.1583          C50        C  \n",
            "887      0    112053  30.0000          B42        S  \n",
            "889      0    111369  30.0000         C148        C  \n",
            "\n",
            "[183 rows x 12 columns]\n"
          ]
        }
      ]
    },
    {
      "cell_type": "code",
      "source": [
        "print(df.isnull().sum())\n"
      ],
      "metadata": {
        "id": "8RlbsfwDPI29",
        "outputId": "d1afca63-56e6-479e-d4cc-b486cdb51675",
        "colab": {
          "base_uri": "https://localhost:8080/"
        }
      },
      "execution_count": 19,
      "outputs": [
        {
          "output_type": "stream",
          "name": "stdout",
          "text": [
            "PassengerId    0\n",
            "Survived       0\n",
            "Pclass         0\n",
            "Full Name      0\n",
            "Sex            0\n",
            "Years          0\n",
            "SibSp          0\n",
            "Parch          0\n",
            "Ticket         0\n",
            "Fare           0\n",
            "Cabin          0\n",
            "Embarked       0\n",
            "dtype: int64\n"
          ]
        }
      ]
    },
    {
      "cell_type": "code",
      "source": [
        "df.sort_values(by=\"Years\", ascending=False, inplace=True)\n",
        "print(df)\n"
      ],
      "metadata": {
        "id": "lcMJWlPCPNI4",
        "outputId": "95b6cf21-2b14-4fb6-bcbd-735ee8955c9f",
        "colab": {
          "base_uri": "https://localhost:8080/"
        }
      },
      "execution_count": 20,
      "outputs": [
        {
          "output_type": "stream",
          "name": "stdout",
          "text": [
            "     PassengerId  Survived  Pclass                             Full Name  \\\n",
            "630          631         1       1  Barkworth, Mr. Algernon Henry Wilson   \n",
            "96            97         0       1             Goldschmidt, Mr. George B   \n",
            "745          746         0       1          Crosby, Capt. Edward Gifford   \n",
            "54            55         0       1        Ostby, Mr. Engelhart Cornelius   \n",
            "456          457         0       1             Millet, Mr. Francis Davis   \n",
            "..           ...       ...     ...                                   ...   \n",
            "205          206         0       3            Strom, Miss. Telma Matilda   \n",
            "340          341         1       2        Navratil, Master. Edmond Roger   \n",
            "297          298         0       1          Allison, Miss. Helen Loraine   \n",
            "183          184         1       2             Becker, Master. Richard F   \n",
            "305          306         1       1        Allison, Master. Hudson Trevor   \n",
            "\n",
            "        Sex  Years  SibSp  Parch     Ticket      Fare    Cabin Embarked  \n",
            "630    male  80.00      0      0      27042   30.0000      A23        S  \n",
            "96     male  71.00      0      0   PC 17754   34.6542       A5        C  \n",
            "745    male  70.00      1      1  WE/P 5735   71.0000      B22        S  \n",
            "54     male  65.00      0      1     113509   61.9792      B30        C  \n",
            "456    male  65.00      0      0      13509   26.5500      E38        S  \n",
            "..      ...    ...    ...    ...        ...       ...      ...      ...  \n",
            "205  female   2.00      0      1     347054   10.4625       G6        S  \n",
            "340    male   2.00      1      1     230080   26.0000       F2        S  \n",
            "297  female   2.00      1      2     113781  151.5500  C22 C26        S  \n",
            "183    male   1.00      2      1     230136   39.0000       F4        S  \n",
            "305    male   0.92      1      2     113781  151.5500  C22 C26        S  \n",
            "\n",
            "[183 rows x 12 columns]\n"
          ]
        }
      ]
    },
    {
      "cell_type": "code",
      "source": [
        "df.sort_values(by=\"Years\", ascending=True, inplace=True)\n",
        "print(df)"
      ],
      "metadata": {
        "id": "aQJO82ffP6Dh",
        "outputId": "fb312f0e-3268-4458-8311-f9f00b9e6c94",
        "colab": {
          "base_uri": "https://localhost:8080/"
        }
      },
      "execution_count": 21,
      "outputs": [
        {
          "output_type": "stream",
          "name": "stdout",
          "text": [
            "     PassengerId  Survived  Pclass                             Full Name  \\\n",
            "305          306         1       1        Allison, Master. Hudson Trevor   \n",
            "183          184         1       2             Becker, Master. Richard F   \n",
            "205          206         0       3            Strom, Miss. Telma Matilda   \n",
            "340          341         1       2        Navratil, Master. Edmond Roger   \n",
            "297          298         0       1          Allison, Miss. Helen Loraine   \n",
            "..           ...       ...     ...                                   ...   \n",
            "54            55         0       1        Ostby, Mr. Engelhart Cornelius   \n",
            "456          457         0       1             Millet, Mr. Francis Davis   \n",
            "745          746         0       1          Crosby, Capt. Edward Gifford   \n",
            "96            97         0       1             Goldschmidt, Mr. George B   \n",
            "630          631         1       1  Barkworth, Mr. Algernon Henry Wilson   \n",
            "\n",
            "        Sex  Years  SibSp  Parch     Ticket      Fare    Cabin Embarked  \n",
            "305    male   0.92      1      2     113781  151.5500  C22 C26        S  \n",
            "183    male   1.00      2      1     230136   39.0000       F4        S  \n",
            "205  female   2.00      0      1     347054   10.4625       G6        S  \n",
            "340    male   2.00      1      1     230080   26.0000       F2        S  \n",
            "297  female   2.00      1      2     113781  151.5500  C22 C26        S  \n",
            "..      ...    ...    ...    ...        ...       ...      ...      ...  \n",
            "54     male  65.00      0      1     113509   61.9792      B30        C  \n",
            "456    male  65.00      0      0      13509   26.5500      E38        S  \n",
            "745    male  70.00      1      1  WE/P 5735   71.0000      B22        S  \n",
            "96     male  71.00      0      0   PC 17754   34.6542       A5        C  \n",
            "630    male  80.00      0      0      27042   30.0000      A23        S  \n",
            "\n",
            "[183 rows x 12 columns]\n"
          ]
        }
      ]
    },
    {
      "cell_type": "code",
      "source": [
        "df1 = pd.DataFrame({\n",
        "    'Name': ['Alice', 'Bob'],\n",
        "    'Age': [25, 30]\n",
        "})\n",
        "\n",
        "df2 = pd.DataFrame({\n",
        "    'Name': ['Alice', 'Bob'],\n",
        "    'City': ['New York', 'San Francisco']\n",
        "})\n",
        "\n",
        "merged_df = pd.merge(df1, df2, on='Name')\n",
        "print(merged_df)\n"
      ],
      "metadata": {
        "id": "7CUgOnW5T135",
        "outputId": "b2894046-df1c-47ba-8480-fe6d369634a4",
        "colab": {
          "base_uri": "https://localhost:8080/"
        }
      },
      "execution_count": 22,
      "outputs": [
        {
          "output_type": "stream",
          "name": "stdout",
          "text": [
            "    Name  Age           City\n",
            "0  Alice   25       New York\n",
            "1    Bob   30  San Francisco\n"
          ]
        }
      ]
    },
    {
      "cell_type": "code",
      "source": [
        "import numpy as np"
      ],
      "metadata": {
        "id": "ZmnIS5KqbrtD"
      },
      "execution_count": 23,
      "outputs": []
    },
    {
      "cell_type": "code",
      "source": [
        "age_column = df['Years'].to_numpy()"
      ],
      "metadata": {
        "id": "WVmtr3D3cQAC"
      },
      "execution_count": 24,
      "outputs": []
    },
    {
      "cell_type": "code",
      "source": [
        "print(age_column)"
      ],
      "metadata": {
        "id": "cTSmTSYjcjut",
        "outputId": "ed89f7fa-0d71-468d-f0cd-b47a858d8015",
        "colab": {
          "base_uri": "https://localhost:8080/"
        }
      },
      "execution_count": 25,
      "outputs": [
        {
          "output_type": "stream",
          "name": "stdout",
          "text": [
            "[ 0.92  1.    2.    2.    2.    3.    4.    4.    4.    6.   11.   14.\n",
            " 15.   16.   16.   16.   17.   17.   17.   18.   18.   18.   18.   19.\n",
            " 19.   19.   19.   19.   19.   21.   21.   21.   22.   22.   22.   23.\n",
            " 23.   23.   23.   24.   24.   24.   24.   24.   24.   24.   24.   24.\n",
            " 25.   25.   25.   25.   26.   27.   27.   27.   27.   27.   28.   28.\n",
            " 29.   29.   29.   29.   29.   30.   30.   30.   30.   31.   31.   31.\n",
            " 31.   31.   32.   32.   32.   32.5  33.   33.   33.   33.   34.   34.\n",
            " 35.   35.   35.   35.   35.   35.   36.   36.   36.   36.   36.   36.\n",
            " 36.   36.   36.   36.   36.   36.5  37.   37.   37.   38.   38.   38.\n",
            " 38.   39.   39.   39.   39.   39.   40.   40.   40.   40.   41.   42.\n",
            " 42.   42.   43.   44.   44.   44.   45.   45.   45.   45.5  46.   46.\n",
            " 47.   47.   47.   47.   47.   48.   48.   48.   48.   48.   49.   49.\n",
            " 49.   49.   49.   50.   50.   50.   50.   51.   51.   52.   52.   52.\n",
            " 52.   53.   54.   54.   54.   55.   56.   56.   56.   57.   58.   58.\n",
            " 58.   58.   58.   60.   60.   61.   61.   62.   63.   64.   65.   65.\n",
            " 70.   71.   80.  ]\n"
          ]
        }
      ]
    },
    {
      "cell_type": "code",
      "source": [
        "ages = df['Years'].values"
      ],
      "metadata": {
        "id": "U5S0RWU4Xm4a"
      },
      "execution_count": 26,
      "outputs": []
    },
    {
      "cell_type": "code",
      "source": [
        "print(ages)"
      ],
      "metadata": {
        "id": "sD_tlFxpatta",
        "outputId": "f830f0c1-2c94-4645-8abf-1d1c180baa8d",
        "colab": {
          "base_uri": "https://localhost:8080/"
        }
      },
      "execution_count": 27,
      "outputs": [
        {
          "output_type": "stream",
          "name": "stdout",
          "text": [
            "[ 0.92  1.    2.    2.    2.    3.    4.    4.    4.    6.   11.   14.\n",
            " 15.   16.   16.   16.   17.   17.   17.   18.   18.   18.   18.   19.\n",
            " 19.   19.   19.   19.   19.   21.   21.   21.   22.   22.   22.   23.\n",
            " 23.   23.   23.   24.   24.   24.   24.   24.   24.   24.   24.   24.\n",
            " 25.   25.   25.   25.   26.   27.   27.   27.   27.   27.   28.   28.\n",
            " 29.   29.   29.   29.   29.   30.   30.   30.   30.   31.   31.   31.\n",
            " 31.   31.   32.   32.   32.   32.5  33.   33.   33.   33.   34.   34.\n",
            " 35.   35.   35.   35.   35.   35.   36.   36.   36.   36.   36.   36.\n",
            " 36.   36.   36.   36.   36.   36.5  37.   37.   37.   38.   38.   38.\n",
            " 38.   39.   39.   39.   39.   39.   40.   40.   40.   40.   41.   42.\n",
            " 42.   42.   43.   44.   44.   44.   45.   45.   45.   45.5  46.   46.\n",
            " 47.   47.   47.   47.   47.   48.   48.   48.   48.   48.   49.   49.\n",
            " 49.   49.   49.   50.   50.   50.   50.   51.   51.   52.   52.   52.\n",
            " 52.   53.   54.   54.   54.   55.   56.   56.   56.   57.   58.   58.\n",
            " 58.   58.   58.   60.   60.   61.   61.   62.   63.   64.   65.   65.\n",
            " 70.   71.   80.  ]\n"
          ]
        }
      ]
    },
    {
      "cell_type": "code",
      "source": [
        "fares = df['Fare'].values\n",
        "print(fares)"
      ],
      "metadata": {
        "id": "C-vrOMw0a12x",
        "outputId": "12d45f05-a3f7-4912-aa50-04129a3198a1",
        "colab": {
          "base_uri": "https://localhost:8080/"
        }
      },
      "execution_count": 28,
      "outputs": [
        {
          "output_type": "stream",
          "name": "stdout",
          "text": [
            "[151.55    39.      10.4625  26.     151.55    26.      81.8583  16.7\n",
            "  39.      12.475  120.     120.     211.3375  57.9792  86.5     39.4\n",
            "  57.     110.8833 108.9     79.65   262.375  227.525  108.9    263.\n",
            "   7.65    53.1     30.      91.0792  26.2833  77.2875  77.9583 262.375\n",
            "  49.5     66.6     55.     113.275   63.3583 263.      13.7917  49.5042\n",
            "  16.7     69.3    263.      13.     247.5208  69.3     83.1583  79.2\n",
            " 151.55    55.4417   7.65    91.0792  30.      53.1     76.7292 211.5\n",
            "  12.475   10.5     35.5     26.55   211.3375  10.4625  30.      10.5\n",
            "  66.6     56.9292  93.5     86.5     27.75    52.     164.8667  57.\n",
            " 113.275   50.4958  30.5     76.2917   8.05    13.      90.      53.1\n",
            "   5.      86.5     10.5     13.     135.6333  26.2875  90.      83.475\n",
            " 512.3292  53.1     13.     135.6333  26.3875  26.2875  40.125   71.\n",
            "  12.875  512.3292 120.      78.85   120.      26.      29.7     53.1\n",
            "  52.5542  90.     153.4625  71.2833 227.525  110.8833  79.65    83.1583\n",
            "  55.9      0.     153.4625   0.      31.     134.5    134.5     26.2875\n",
            "   7.65    52.5542 211.3375  57.9792  90.      27.7208  35.5     83.475\n",
            "  26.55    28.5     79.2     61.175   52.      34.0208  25.5875  52.5542\n",
            "  38.5     76.7292  26.55    52.      39.6     25.9292 110.8833  76.7292\n",
            "  25.9292  56.9292  89.1042 247.5208  28.7125 106.425   55.9     77.9583\n",
            "  26.55    79.65    30.5     93.5     78.2667  51.4792  51.8625  77.2875\n",
            "  78.2667  30.5     35.5     30.6958  83.1583  10.5    153.4625  29.7\n",
            "  26.55   146.5208 113.275   79.2     75.25    33.5     32.3208  26.55\n",
            "  77.9583 263.      61.9792  26.55    71.      34.6542  30.    ]\n"
          ]
        }
      ]
    },
    {
      "cell_type": "code",
      "source": [
        "survived = df['Survived'].values\n",
        "print(survived)"
      ],
      "metadata": {
        "id": "Hua9idopa8ww",
        "outputId": "70ca5f25-44b6-440f-faee-89b826364320",
        "colab": {
          "base_uri": "https://localhost:8080/"
        }
      },
      "execution_count": 29,
      "outputs": [
        {
          "output_type": "stream",
          "name": "stdout",
          "text": [
            "[1 1 0 1 0 1 1 1 1 1 1 1 1 1 1 1 1 1 1 1 1 1 0 0 0 0 1 1 1 0 1 1 1 1 1 1 1\n",
            " 1 1 1 1 1 1 1 0 1 1 0 0 1 0 1 1 1 1 0 1 1 1 1 1 0 0 1 0 1 1 1 0 0 1 1 1 0\n",
            " 1 1 1 1 1 1 0 1 1 1 1 1 1 1 1 1 1 1 1 1 0 1 0 1 1 0 1 0 0 0 1 1 0 1 1 1 1\n",
            " 1 1 0 1 0 1 1 1 1 0 1 1 1 0 1 0 0 0 0 0 0 0 0 0 1 0 1 1 1 1 1 0 1 1 1 1 1\n",
            " 0 0 0 1 1 0 1 1 1 1 0 0 1 0 1 0 1 0 1 0 1 1 0 1 1 0 0 0 1 0 0 0 0 0 1]\n"
          ]
        }
      ]
    },
    {
      "cell_type": "code",
      "source": [
        "print(np.mean(ages))\n",
        "print(np.median(fares))\n",
        "print(np.std(ages))\n",
        "print(np.sum(survived))\n",
        "print(np.max(fares))\n"
      ],
      "metadata": {
        "id": "wXYzNNqcbsiq",
        "outputId": "3f582c18-d5f6-48c8-f622-d7aeac08673d",
        "colab": {
          "base_uri": "https://localhost:8080/"
        }
      },
      "execution_count": 30,
      "outputs": [
        {
          "output_type": "stream",
          "name": "stdout",
          "text": [
            "35.6744262295082\n",
            "57.0\n",
            "15.601064611766537\n",
            "123\n",
            "512.3292\n"
          ]
        }
      ]
    },
    {
      "cell_type": "code",
      "source": [
        "print(ages[ages>60])"
      ],
      "metadata": {
        "id": "eCKtzktScPqz",
        "outputId": "5a115759-5d49-4147-f628-d15506cf1306",
        "colab": {
          "base_uri": "https://localhost:8080/"
        }
      },
      "execution_count": 31,
      "outputs": [
        {
          "output_type": "stream",
          "name": "stdout",
          "text": [
            "[61. 61. 62. 63. 64. 65. 65. 70. 71. 80.]\n"
          ]
        }
      ]
    },
    {
      "cell_type": "code",
      "source": [
        "print(fares[survived == 1])\n"
      ],
      "metadata": {
        "id": "pWzQemvbga8J",
        "outputId": "b729fc9d-8885-43a7-b337-89b9058b59e1",
        "colab": {
          "base_uri": "https://localhost:8080/"
        }
      },
      "execution_count": 32,
      "outputs": [
        {
          "output_type": "stream",
          "name": "stdout",
          "text": [
            "[151.55    39.      26.      26.      81.8583  16.7     39.      12.475\n",
            " 120.     120.     211.3375  57.9792  86.5     39.4     57.     110.8833\n",
            " 108.9     79.65   262.375  227.525   30.      91.0792  26.2833  77.9583\n",
            " 262.375   49.5     66.6     55.     113.275   63.3583 263.      13.7917\n",
            "  49.5042  16.7     69.3    263.      13.      69.3     83.1583  55.4417\n",
            "  91.0792  30.      53.1     76.7292  12.475   10.5     35.5     26.55\n",
            " 211.3375  10.5     56.9292  93.5     86.5    164.8667  57.     113.275\n",
            "  30.5     76.2917   8.05    13.      90.      53.1     86.5     10.5\n",
            "  13.     135.6333  26.2875  90.      83.475  512.3292  53.1     13.\n",
            " 135.6333  26.3875  26.2875  71.     512.3292 120.     120.      52.5542\n",
            "  90.      71.2833 227.525  110.8833  79.65    83.1583  55.9    153.4625\n",
            "  31.     134.5    134.5     26.2875  52.5542 211.3375  57.9792  27.7208\n",
            "  52.5542  76.7292  26.55    52.      39.6     25.9292  76.7292  25.9292\n",
            "  56.9292  89.1042 247.5208  77.9583  26.55    30.5     93.5     78.2667\n",
            "  51.4792  78.2667  35.5     83.1583 153.4625  26.55   146.5208  79.2\n",
            "  75.25    77.9583  30.    ]\n"
          ]
        }
      ]
    },
    {
      "cell_type": "code",
      "source": [
        "print(ages[ages<12])"
      ],
      "metadata": {
        "id": "2UUs3ZyOhKiA",
        "outputId": "9ee01992-d966-4e47-f035-d02eeeca4da1",
        "colab": {
          "base_uri": "https://localhost:8080/"
        }
      },
      "execution_count": 33,
      "outputs": [
        {
          "output_type": "stream",
          "name": "stdout",
          "text": [
            "[ 0.92  1.    2.    2.    2.    3.    4.    4.    4.    6.   11.  ]\n"
          ]
        }
      ]
    },
    {
      "cell_type": "code",
      "source": [
        "\n",
        "valid_ages = ~np.isnan(ages)\n",
        "mean_age = np.mean(ages[valid_ages])\n",
        "print(valid_ages)\n",
        "print(mean_age)"
      ],
      "metadata": {
        "id": "-aZ32A-wE17q",
        "outputId": "8df42105-312c-4923-ea13-13c0f191a45c",
        "colab": {
          "base_uri": "https://localhost:8080/"
        }
      },
      "execution_count": 38,
      "outputs": [
        {
          "output_type": "stream",
          "name": "stdout",
          "text": [
            "[ True  True  True  True  True  True  True  True  True  True  True  True\n",
            "  True  True  True  True  True  True  True  True  True  True  True  True\n",
            "  True  True  True  True  True  True  True  True  True  True  True  True\n",
            "  True  True  True  True  True  True  True  True  True  True  True  True\n",
            "  True  True  True  True  True  True  True  True  True  True  True  True\n",
            "  True  True  True  True  True  True  True  True  True  True  True  True\n",
            "  True  True  True  True  True  True  True  True  True  True  True  True\n",
            "  True  True  True  True  True  True  True  True  True  True  True  True\n",
            "  True  True  True  True  True  True  True  True  True  True  True  True\n",
            "  True  True  True  True  True  True  True  True  True  True  True  True\n",
            "  True  True  True  True  True  True  True  True  True  True  True  True\n",
            "  True  True  True  True  True  True  True  True  True  True  True  True\n",
            "  True  True  True  True  True  True  True  True  True  True  True  True\n",
            "  True  True  True  True  True  True  True  True  True  True  True  True\n",
            "  True  True  True  True  True  True  True  True  True  True  True  True\n",
            "  True  True  True]\n",
            "35.6744262295082\n"
          ]
        }
      ]
    },
    {
      "cell_type": "code",
      "source": [
        "\n",
        "mask = (ages < 18) & (survived == 1)\n",
        "young_survivors_fares = fares[mask]\n",
        "print(young_survivors_fares)"
      ],
      "metadata": {
        "id": "IISkoqofrJuf",
        "outputId": "6d1ed4a0-68a7-464b-8193-3c0cf1f40266",
        "colab": {
          "base_uri": "https://localhost:8080/"
        }
      },
      "execution_count": 40,
      "outputs": [
        {
          "output_type": "stream",
          "name": "stdout",
          "text": [
            "[151.55    39.      26.      26.      81.8583  16.7     39.      12.475\n",
            " 120.     120.     211.3375  57.9792  86.5     39.4     57.     110.8833\n",
            " 108.9   ]\n"
          ]
        }
      ]
    },
    {
      "cell_type": "code",
      "source": [
        "pip install matplotlib seaborn\n"
      ],
      "metadata": {
        "id": "ViuPl_M1rqOH",
        "outputId": "ea1577d8-745b-4f06-ad21-ede4fe632fea",
        "colab": {
          "base_uri": "https://localhost:8080/"
        }
      },
      "execution_count": 41,
      "outputs": [
        {
          "output_type": "stream",
          "name": "stdout",
          "text": [
            "Requirement already satisfied: matplotlib in /usr/local/lib/python3.11/dist-packages (3.10.0)\n",
            "Requirement already satisfied: seaborn in /usr/local/lib/python3.11/dist-packages (0.13.2)\n",
            "Requirement already satisfied: contourpy>=1.0.1 in /usr/local/lib/python3.11/dist-packages (from matplotlib) (1.3.2)\n",
            "Requirement already satisfied: cycler>=0.10 in /usr/local/lib/python3.11/dist-packages (from matplotlib) (0.12.1)\n",
            "Requirement already satisfied: fonttools>=4.22.0 in /usr/local/lib/python3.11/dist-packages (from matplotlib) (4.57.0)\n",
            "Requirement already satisfied: kiwisolver>=1.3.1 in /usr/local/lib/python3.11/dist-packages (from matplotlib) (1.4.8)\n",
            "Requirement already satisfied: numpy>=1.23 in /usr/local/lib/python3.11/dist-packages (from matplotlib) (2.0.2)\n",
            "Requirement already satisfied: packaging>=20.0 in /usr/local/lib/python3.11/dist-packages (from matplotlib) (24.2)\n",
            "Requirement already satisfied: pillow>=8 in /usr/local/lib/python3.11/dist-packages (from matplotlib) (11.1.0)\n",
            "Requirement already satisfied: pyparsing>=2.3.1 in /usr/local/lib/python3.11/dist-packages (from matplotlib) (3.2.3)\n",
            "Requirement already satisfied: python-dateutil>=2.7 in /usr/local/lib/python3.11/dist-packages (from matplotlib) (2.8.2)\n",
            "Requirement already satisfied: pandas>=1.2 in /usr/local/lib/python3.11/dist-packages (from seaborn) (2.2.2)\n",
            "Requirement already satisfied: pytz>=2020.1 in /usr/local/lib/python3.11/dist-packages (from pandas>=1.2->seaborn) (2025.2)\n",
            "Requirement already satisfied: tzdata>=2022.7 in /usr/local/lib/python3.11/dist-packages (from pandas>=1.2->seaborn) (2025.2)\n",
            "Requirement already satisfied: six>=1.5 in /usr/local/lib/python3.11/dist-packages (from python-dateutil>=2.7->matplotlib) (1.17.0)\n"
          ]
        }
      ]
    },
    {
      "cell_type": "code",
      "source": [
        "import matplotlib.pyplot as plt\n",
        "import seaborn as sns\n",
        "\n",
        "plt.figure(figsize=(8, 5))\n",
        "sns.histplot(ages, bins=30, kde=True, color='skyblue')\n",
        "plt.title('Age Distribution of Passengers')\n",
        "plt.xlabel('Age')\n",
        "plt.ylabel('Frequency')\n",
        "plt.show()\n"
      ],
      "metadata": {
        "id": "P6MrQHFgru-B",
        "outputId": "c5429372-70c6-462d-b583-c49f628a6df6",
        "colab": {
          "base_uri": "https://localhost:8080/",
          "height": 487
        }
      },
      "execution_count": 42,
      "outputs": [
        {
          "output_type": "display_data",
          "data": {
            "text/plain": [
              "<Figure size 800x500 with 1 Axes>"
            ],
            "image/png": "[encoded data removed]"
          },
          "metadata": {}
        }
      ]
    },
    {
      "cell_type": "code",
      "source": [
        "plt.figure(figsize=(8, 5))\n",
        "sns.histplot(fares, bins=40, kde=True, color='salmon')\n",
        "plt.title('Fare Distribution')\n",
        "plt.xlabel('Fare')\n",
        "plt.ylabel('Frequency')\n",
        "plt.show()\n"
      ],
      "metadata": {
        "id": "NL7ktv1br5Pf",
        "outputId": "7ef6e769-f79a-45a6-ce1d-0c3d3a408f16",
        "colab": {
          "base_uri": "https://localhost:8080/",
          "height": 487
        }
      },
      "execution_count": 43,
      "outputs": [
        {
          "output_type": "display_data",
          "data": {
            "text/plain": [
              "<Figure size 800x500 with 1 Axes>"
            ],
            "image/png": "[encoded data removed]"
          },
          "metadata": {}
        }
      ]
    },
    {
      "cell_type": "code",
      "source": [
        "plt.figure(figsize=(8, 6))\n",
        "plt.scatter(ages, fares, alpha=0.6, c='green')\n",
        "plt.title('Age vs Fare')\n",
        "plt.xlabel('Age')\n",
        "plt.ylabel('Fare')\n",
        "plt.grid(True)\n",
        "plt.show()\n"
      ],
      "metadata": {
        "id": "D5ol33B9r9Z3",
        "outputId": "cf7d004c-1995-404b-effa-ef2e065f463e",
        "colab": {
          "base_uri": "https://localhost:8080/",
          "height": 564
        }
      },
      "execution_count": 44,
      "outputs": [
        {
          "output_type": "display_data",
          "data": {
            "text/plain": [
              "<Figure size 800x600 with 1 Axes>"
            ],
            "image/png": "[encoded data removed]"
          },
          "metadata": {}
        }
      ]
    },
    {
      "cell_type": "code",
      "source": [
        "df_clean = df[['Age', 'Fare', 'Survived']].dropna()\n",
        "\n",
        "df_clean['AgeGroup'] = pd.cut(df_clean['Age'], bins=[0, 12, 20, 40, 60, 80])\n",
        "\n",
        "survival_by_age = df_clean.groupby('AgeGroup')['Survived'].mean()\n",
        "\n",
        "survival_by_age.plot(kind='bar', color='orange', figsize=(8, 5))\n",
        "plt.title('Survival Rate by Age Group')\n",
        "plt.ylabel('Survival Rate')\n",
        "plt.xlabel('Age Group')\n",
        "plt.xticks(rotation=45)\n",
        "plt.ylim(0, 1)\n",
        "plt.grid(axis='y')\n",
        "plt.show()"
      ],
      "metadata": {
        "id": "j4hKgePAuVrP",
        "outputId": "e6a29210-c577-4c33-8478-69f9dacab66e",
        "colab": {
          "base_uri": "https://localhost:8080/",
          "height": 577
        }
      },
      "execution_count": 61,
      "outputs": [
        {
          "output_type": "stream",
          "name": "stderr",
          "text": [
            "<ipython-input-61-15921018878a>:5: FutureWarning: The default of observed=False is deprecated and will be changed to True in a future version of pandas. Pass observed=False to retain current behavior or observed=True to adopt the future default and silence this warning.\n",
            "  survival_by_age = df_clean.groupby('AgeGroup')['Survived'].mean()\n"
          ]
        },
        {
          "output_type": "display_data",
          "data": {
            "text/plain": [
              "<Figure size 800x500 with 1 Axes>"
            ],
            "image/png": "[encoded data removed]"
          },
          "metadata": {}
        }
      ]
    },
    {
      "cell_type": "code",
      "source": [
        "plt.figure(figsize=(8, 5))\n",
        "sns.boxplot(x=survived, y=ages)\n",
        "plt.title('Age Distribution by Survival')\n",
        "plt.xlabel('Survived (0 = No, 1 = Yes)')\n",
        "plt.ylabel('Age')\n",
        "plt.show()\n"
      ],
      "metadata": {
        "id": "SZnHe9M4wi8y",
        "outputId": "52094577-1190-4d4c-8e74-6d5bdc9ed509",
        "colab": {
          "base_uri": "https://localhost:8080/",
          "height": 487
        }
      },
      "execution_count": 62,
      "outputs": [
        {
          "output_type": "display_data",
          "data": {
            "text/plain": [
              "<Figure size 800x500 with 1 Axes>"
            ],
            "image/png": "[encoded data removed]"
          },
          "metadata": {}
        }
      ]
    }
  ]
}