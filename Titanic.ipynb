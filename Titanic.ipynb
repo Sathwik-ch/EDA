{
  "nbformat": 4,
  "nbformat_minor": 0,
  "metadata": {
    "colab": {
      "provenance": [],
      "authorship_tag": "ABX9TyMvFu0K1g5+329J/iDmXfBU",
      "include_colab_link": true
    },
    "kernelspec": {
      "name": "python3",
      "display_name": "Python 3"
    },
    "language_info": {
      "name": "python"
    }
  },
  "cells": [
    {
      "cell_type": "markdown",
      "metadata": {
        "id": "view-in-github",
        "colab_type": "text"
      },
      "source": [
        "<a href=\"https://colab.research.google.com/github/Sathwik-ch/EDA/blob/main/Titanic.ipynb\" target=\"_parent\"><img src=\"https://colab.research.google.com/assets/colab-badge.svg\" alt=\"Open In Colab\"/></a>"
      ]
    },
    {
      "cell_type": "code",
      "source": [
        "import pandas as pd\n"
      ],
      "metadata": {
        "id": "EZal6dRcEa8P"
      },
      "execution_count": 5,
      "outputs": []
    },
    {
      "cell_type": "code",
      "source": [
        "df = pd.read_csv(\"Titanic-Dataset.csv\")\n",
        "print(\"File loaded successfully!\")"
      ],
      "metadata": {
        "id": "5NcWN4_AEd3P",
        "outputId": "f210ddaa-9784-467a-ddc1-a744cf357bf0",
        "colab": {
          "base_uri": "https://localhost:8080/"
        }
      },
      "execution_count": 6,
      "outputs": [
        {
          "output_type": "stream",
          "name": "stdout",
          "text": [
            "File loaded successfully!\n"
          ]
        }
      ]
    },
    {
      "cell_type": "code",
      "source": [
        "print(df.shape)"
      ],
      "metadata": {
        "id": "-cGCCp6_EtTL",
        "outputId": "707b58e3-4021-4141-f5cc-7854a4832aff",
        "colab": {
          "base_uri": "https://localhost:8080/"
        }
      },
      "execution_count": 58,
      "outputs": [
        {
          "output_type": "stream",
          "name": "stdout",
          "text": [
            "(891, 12)\n"
          ]
        }
      ]
    },
    {
      "cell_type": "code",
      "source": [
        "print(df.head())"
      ],
      "metadata": {
        "id": "RYz-4QvbEzIb",
        "outputId": "b502aae8-2ed2-4fe4-84fe-22b437c33fd4",
        "colab": {
          "base_uri": "https://localhost:8080/"
        }
      },
      "execution_count": 59,
      "outputs": [
        {
          "output_type": "stream",
          "name": "stdout",
          "text": [
            "   PassengerId  Survived  Pclass  \\\n",
            "0            1         0       3   \n",
            "1            2         1       1   \n",
            "2            3         1       3   \n",
            "3            4         1       1   \n",
            "4            5         0       3   \n",
            "\n",
            "                                                Name     Sex   Age  SibSp  \\\n",
            "0                            Braund, Mr. Owen Harris    male  22.0      1   \n",
            "1  Cumings, Mrs. John Bradley (Florence Briggs Th...  female  38.0      1   \n",
            "2                             Heikkinen, Miss. Laina  female  26.0      0   \n",
            "3       Futrelle, Mrs. Jacques Heath (Lily May Peel)  female  35.0      1   \n",
            "4                           Allen, Mr. William Henry    male  35.0      0   \n",
            "\n",
            "   Parch            Ticket     Fare Cabin Embarked  \n",
            "0      0         A/5 21171   7.2500   NaN        S  \n",
            "1      0          PC 17599  71.2833   C85        C  \n",
            "2      0  STON/O2. 3101282   7.9250   NaN        S  \n",
            "3      0            113803  53.1000  C123        S  \n",
            "4      0            373450   8.0500   NaN        S  \n"
          ]
        }
      ]
    },
    {
      "cell_type": "code",
      "source": [
        "print(df.tail())"
      ],
      "metadata": {
        "id": "vTFTuYGSFxzT",
        "outputId": "767d9860-313a-47bc-813c-b94ced6889d8",
        "colab": {
          "base_uri": "https://localhost:8080/"
        }
      },
      "execution_count": 60,
      "outputs": [
        {
          "output_type": "stream",
          "name": "stdout",
          "text": [
            "     PassengerId  Survived  Pclass                                      Name  \\\n",
            "886          887         0       2                     Montvila, Rev. Juozas   \n",
            "887          888         1       1              Graham, Miss. Margaret Edith   \n",
            "888          889         0       3  Johnston, Miss. Catherine Helen \"Carrie\"   \n",
            "889          890         1       1                     Behr, Mr. Karl Howell   \n",
            "890          891         0       3                       Dooley, Mr. Patrick   \n",
            "\n",
            "        Sex   Age  SibSp  Parch      Ticket   Fare Cabin Embarked  \n",
            "886    male  27.0      0      0      211536  13.00   NaN        S  \n",
            "887  female  19.0      0      0      112053  30.00   B42        S  \n",
            "888  female   NaN      1      2  W./C. 6607  23.45   NaN        S  \n",
            "889    male  26.0      0      0      111369  30.00  C148        C  \n",
            "890    male  32.0      0      0      370376   7.75   NaN        Q  \n"
          ]
        }
      ]
    },
    {
      "cell_type": "code",
      "source": [
        "print(df)"
      ],
      "metadata": {
        "id": "7-mksP0sF7iO",
        "outputId": "6de1aa0e-453e-4b5b-a180-154aaedb0177",
        "colab": {
          "base_uri": "https://localhost:8080/"
        }
      },
      "execution_count": 61,
      "outputs": [
        {
          "output_type": "stream",
          "name": "stdout",
          "text": [
            "     PassengerId  Survived  Pclass  \\\n",
            "0              1         0       3   \n",
            "1              2         1       1   \n",
            "2              3         1       3   \n",
            "3              4         1       1   \n",
            "4              5         0       3   \n",
            "..           ...       ...     ...   \n",
            "886          887         0       2   \n",
            "887          888         1       1   \n",
            "888          889         0       3   \n",
            "889          890         1       1   \n",
            "890          891         0       3   \n",
            "\n",
            "                                                  Name     Sex   Age  SibSp  \\\n",
            "0                              Braund, Mr. Owen Harris    male  22.0      1   \n",
            "1    Cumings, Mrs. John Bradley (Florence Briggs Th...  female  38.0      1   \n",
            "2                               Heikkinen, Miss. Laina  female  26.0      0   \n",
            "3         Futrelle, Mrs. Jacques Heath (Lily May Peel)  female  35.0      1   \n",
            "4                             Allen, Mr. William Henry    male  35.0      0   \n",
            "..                                                 ...     ...   ...    ...   \n",
            "886                              Montvila, Rev. Juozas    male  27.0      0   \n",
            "887                       Graham, Miss. Margaret Edith  female  19.0      0   \n",
            "888           Johnston, Miss. Catherine Helen \"Carrie\"  female   NaN      1   \n",
            "889                              Behr, Mr. Karl Howell    male  26.0      0   \n",
            "890                                Dooley, Mr. Patrick    male  32.0      0   \n",
            "\n",
            "     Parch            Ticket     Fare Cabin Embarked  \n",
            "0        0         A/5 21171   7.2500   NaN        S  \n",
            "1        0          PC 17599  71.2833   C85        C  \n",
            "2        0  STON/O2. 3101282   7.9250   NaN        S  \n",
            "3        0            113803  53.1000  C123        S  \n",
            "4        0            373450   8.0500   NaN        S  \n",
            "..     ...               ...      ...   ...      ...  \n",
            "886      0            211536  13.0000   NaN        S  \n",
            "887      0            112053  30.0000   B42        S  \n",
            "888      2        W./C. 6607  23.4500   NaN        S  \n",
            "889      0            111369  30.0000  C148        C  \n",
            "890      0            370376   7.7500   NaN        Q  \n",
            "\n",
            "[891 rows x 12 columns]\n"
          ]
        }
      ]
    },
    {
      "cell_type": "code",
      "source": [
        "print(df.columns)"
      ],
      "metadata": {
        "id": "pxR6obfMIXdN",
        "outputId": "cf74d093-8ae6-4157-bffb-627c3c14a36c",
        "colab": {
          "base_uri": "https://localhost:8080/"
        }
      },
      "execution_count": 63,
      "outputs": [
        {
          "output_type": "stream",
          "name": "stdout",
          "text": [
            "Index(['PassengerId', 'Survived', 'Pclass', 'Name', 'Sex', 'Age', 'SibSp',\n",
            "       'Parch', 'Ticket', 'Fare', 'Cabin', 'Embarked'],\n",
            "      dtype='object')\n"
          ]
        }
      ]
    },
    {
      "cell_type": "code",
      "source": [
        "print(df.info())"
      ],
      "metadata": {
        "id": "GdTp0-UNIdyx",
        "outputId": "406a0d9e-e1f3-4d48-c56a-2cadf17be18f",
        "colab": {
          "base_uri": "https://localhost:8080/"
        }
      },
      "execution_count": 65,
      "outputs": [
        {
          "output_type": "stream",
          "name": "stdout",
          "text": [
            "<class 'pandas.core.frame.DataFrame'>\n",
            "RangeIndex: 891 entries, 0 to 890\n",
            "Data columns (total 12 columns):\n",
            " #   Column       Non-Null Count  Dtype  \n",
            "---  ------       --------------  -----  \n",
            " 0   PassengerId  891 non-null    int64  \n",
            " 1   Survived     891 non-null    int64  \n",
            " 2   Pclass       891 non-null    int64  \n",
            " 3   Name         891 non-null    object \n",
            " 4   Sex          891 non-null    object \n",
            " 5   Age          714 non-null    float64\n",
            " 6   SibSp        891 non-null    int64  \n",
            " 7   Parch        891 non-null    int64  \n",
            " 8   Ticket       891 non-null    object \n",
            " 9   Fare         891 non-null    float64\n",
            " 10  Cabin        204 non-null    object \n",
            " 11  Embarked     889 non-null    object \n",
            "dtypes: float64(2), int64(5), object(5)\n",
            "memory usage: 83.7+ KB\n",
            "None\n"
          ]
        }
      ]
    },
    {
      "cell_type": "code",
      "source": [
        "print(df.describe())"
      ],
      "metadata": {
        "id": "XStFiKTFInWt",
        "outputId": "c5cfa12e-86f9-4e99-fba9-5c71749af2dc",
        "colab": {
          "base_uri": "https://localhost:8080/"
        }
      },
      "execution_count": 66,
      "outputs": [
        {
          "output_type": "stream",
          "name": "stdout",
          "text": [
            "       PassengerId    Survived      Pclass         Age       SibSp  \\\n",
            "count   891.000000  891.000000  891.000000  714.000000  891.000000   \n",
            "mean    446.000000    0.383838    2.308642   29.699118    0.523008   \n",
            "std     257.353842    0.486592    0.836071   14.526497    1.102743   \n",
            "min       1.000000    0.000000    1.000000    0.420000    0.000000   \n",
            "25%     223.500000    0.000000    2.000000   20.125000    0.000000   \n",
            "50%     446.000000    0.000000    3.000000   28.000000    0.000000   \n",
            "75%     668.500000    1.000000    3.000000   38.000000    1.000000   \n",
            "max     891.000000    1.000000    3.000000   80.000000    8.000000   \n",
            "\n",
            "            Parch        Fare  \n",
            "count  891.000000  891.000000  \n",
            "mean     0.381594   32.204208  \n",
            "std      0.806057   49.693429  \n",
            "min      0.000000    0.000000  \n",
            "25%      0.000000    7.910400  \n",
            "50%      0.000000   14.454200  \n",
            "75%      0.000000   31.000000  \n",
            "max      6.000000  512.329200  \n"
          ]
        }
      ]
    },
    {
      "cell_type": "code",
      "source": [
        "print(df['Survived'])\n"
      ],
      "metadata": {
        "id": "idyugSGFJ000",
        "outputId": "959bd822-943b-4e10-9e5e-64bb7c62da4b",
        "colab": {
          "base_uri": "https://localhost:8080/"
        }
      },
      "execution_count": 68,
      "outputs": [
        {
          "output_type": "stream",
          "name": "stdout",
          "text": [
            "0      0\n",
            "1      1\n",
            "2      1\n",
            "3      1\n",
            "4      0\n",
            "      ..\n",
            "886    0\n",
            "887    1\n",
            "888    0\n",
            "889    1\n",
            "890    0\n",
            "Name: Survived, Length: 891, dtype: int64\n"
          ]
        }
      ]
    },
    {
      "cell_type": "code",
      "source": [
        "print(df[['Name', 'Sex']])\n"
      ],
      "metadata": {
        "id": "2Hu8kKujUuF0",
        "outputId": "37bf19c5-cb43-4ad0-f9d0-4c9f2e325489",
        "colab": {
          "base_uri": "https://localhost:8080/"
        }
      },
      "execution_count": 74,
      "outputs": [
        {
          "output_type": "stream",
          "name": "stdout",
          "text": [
            "                                                  Name     Sex\n",
            "0                              Braund, Mr. Owen Harris    male\n",
            "1    Cumings, Mrs. John Bradley (Florence Briggs Th...  female\n",
            "2                               Heikkinen, Miss. Laina  female\n",
            "3         Futrelle, Mrs. Jacques Heath (Lily May Peel)  female\n",
            "4                             Allen, Mr. William Henry    male\n",
            "..                                                 ...     ...\n",
            "886                              Montvila, Rev. Juozas    male\n",
            "887                       Graham, Miss. Margaret Edith  female\n",
            "888           Johnston, Miss. Catherine Helen \"Carrie\"  female\n",
            "889                              Behr, Mr. Karl Howell    male\n",
            "890                                Dooley, Mr. Patrick    male\n",
            "\n",
            "[891 rows x 2 columns]\n"
          ]
        }
      ]
    },
    {
      "cell_type": "code",
      "source": [
        "print(df.iloc[1])\n"
      ],
      "metadata": {
        "id": "5rqDqKljVORy",
        "outputId": "0577a9f7-ec8f-44fd-d15b-4a60ce0b07ee",
        "colab": {
          "base_uri": "https://localhost:8080/"
        }
      },
      "execution_count": 77,
      "outputs": [
        {
          "output_type": "stream",
          "name": "stdout",
          "text": [
            "PassengerId                                                    2\n",
            "Survived                                                       1\n",
            "Pclass                                                         1\n",
            "Name           Cumings, Mrs. John Bradley (Florence Briggs Th...\n",
            "Sex                                                       female\n",
            "Age                                                         38.0\n",
            "SibSp                                                          1\n",
            "Parch                                                          0\n",
            "Ticket                                                  PC 17599\n",
            "Fare                                                     71.2833\n",
            "Cabin                                                        C85\n",
            "Embarked                                                       C\n",
            "Name: 1, dtype: object\n"
          ]
        }
      ]
    },
    {
      "cell_type": "code",
      "source": [
        "print(df[df['Age'] > 30])\n"
      ],
      "metadata": {
        "id": "hYhATDnIWEsX",
        "outputId": "9ae74fcb-0004-420b-fd71-8aee41d8dea8",
        "colab": {
          "base_uri": "https://localhost:8080/"
        }
      },
      "execution_count": 79,
      "outputs": [
        {
          "output_type": "stream",
          "name": "stdout",
          "text": [
            "     PassengerId  Survived  Pclass  \\\n",
            "1              2         1       1   \n",
            "3              4         1       1   \n",
            "4              5         0       3   \n",
            "6              7         0       1   \n",
            "11            12         1       1   \n",
            "..           ...       ...     ...   \n",
            "873          874         0       3   \n",
            "879          880         1       1   \n",
            "881          882         0       3   \n",
            "885          886         0       3   \n",
            "890          891         0       3   \n",
            "\n",
            "                                                  Name     Sex   Age  SibSp  \\\n",
            "1    Cumings, Mrs. John Bradley (Florence Briggs Th...  female  38.0      1   \n",
            "3         Futrelle, Mrs. Jacques Heath (Lily May Peel)  female  35.0      1   \n",
            "4                             Allen, Mr. William Henry    male  35.0      0   \n",
            "6                              McCarthy, Mr. Timothy J    male  54.0      0   \n",
            "11                            Bonnell, Miss. Elizabeth  female  58.0      0   \n",
            "..                                                 ...     ...   ...    ...   \n",
            "873                        Vander Cruyssen, Mr. Victor    male  47.0      0   \n",
            "879      Potter, Mrs. Thomas Jr (Lily Alexenia Wilson)  female  56.0      0   \n",
            "881                                 Markun, Mr. Johann    male  33.0      0   \n",
            "885               Rice, Mrs. William (Margaret Norton)  female  39.0      0   \n",
            "890                                Dooley, Mr. Patrick    male  32.0      0   \n",
            "\n",
            "     Parch    Ticket     Fare Cabin Embarked  \n",
            "1        0  PC 17599  71.2833   C85        C  \n",
            "3        0    113803  53.1000  C123        S  \n",
            "4        0    373450   8.0500   NaN        S  \n",
            "6        0     17463  51.8625   E46        S  \n",
            "11       0    113783  26.5500  C103        S  \n",
            "..     ...       ...      ...   ...      ...  \n",
            "873      0    345765   9.0000   NaN        S  \n",
            "879      1     11767  83.1583   C50        C  \n",
            "881      0    349257   7.8958   NaN        S  \n",
            "885      5    382652  29.1250   NaN        Q  \n",
            "890      0    370376   7.7500   NaN        Q  \n",
            "\n",
            "[305 rows x 12 columns]\n"
          ]
        }
      ]
    },
    {
      "cell_type": "code",
      "source": [
        "print(df.isnull().sum())\n"
      ],
      "metadata": {
        "id": "nHLIFg8KWI_n",
        "outputId": "784a35f8-57cd-4d2e-bf9f-758a01c25fc4",
        "colab": {
          "base_uri": "https://localhost:8080/"
        }
      },
      "execution_count": 81,
      "outputs": [
        {
          "output_type": "stream",
          "name": "stdout",
          "text": [
            "PassengerId      0\n",
            "Survived         0\n",
            "Pclass           0\n",
            "Name             0\n",
            "Sex              0\n",
            "Age            177\n",
            "SibSp            0\n",
            "Parch            0\n",
            "Ticket           0\n",
            "Fare             0\n",
            "Cabin          687\n",
            "Embarked         2\n",
            "dtype: int64\n"
          ]
        }
      ]
    },
    {
      "cell_type": "code",
      "source": [
        "df.dropna(inplace=True)\n",
        "\n"
      ],
      "metadata": {
        "id": "0vdS1I1rWTro"
      },
      "execution_count": 9,
      "outputs": []
    },
    {
      "cell_type": "code",
      "source": [
        "print(df)"
      ],
      "metadata": {
        "id": "4ShEAYZ4OoIx",
        "outputId": "d0043f48-275a-4df3-b1dd-8055155908f3",
        "colab": {
          "base_uri": "https://localhost:8080/"
        }
      },
      "execution_count": 10,
      "outputs": [
        {
          "output_type": "stream",
          "name": "stdout",
          "text": [
            "     PassengerId  Survived  Pclass  \\\n",
            "1              2         1       1   \n",
            "3              4         1       1   \n",
            "6              7         0       1   \n",
            "10            11         1       3   \n",
            "11            12         1       1   \n",
            "..           ...       ...     ...   \n",
            "871          872         1       1   \n",
            "872          873         0       1   \n",
            "879          880         1       1   \n",
            "887          888         1       1   \n",
            "889          890         1       1   \n",
            "\n",
            "                                                  Name     Sex   Age  SibSp  \\\n",
            "1    Cumings, Mrs. John Bradley (Florence Briggs Th...  female  38.0      1   \n",
            "3         Futrelle, Mrs. Jacques Heath (Lily May Peel)  female  35.0      1   \n",
            "6                              McCarthy, Mr. Timothy J    male  54.0      0   \n",
            "10                     Sandstrom, Miss. Marguerite Rut  female   4.0      1   \n",
            "11                            Bonnell, Miss. Elizabeth  female  58.0      0   \n",
            "..                                                 ...     ...   ...    ...   \n",
            "871   Beckwith, Mrs. Richard Leonard (Sallie Monypeny)  female  47.0      1   \n",
            "872                           Carlsson, Mr. Frans Olof    male  33.0      0   \n",
            "879      Potter, Mrs. Thomas Jr (Lily Alexenia Wilson)  female  56.0      0   \n",
            "887                       Graham, Miss. Margaret Edith  female  19.0      0   \n",
            "889                              Behr, Mr. Karl Howell    male  26.0      0   \n",
            "\n",
            "     Parch    Ticket     Fare        Cabin Embarked  \n",
            "1        0  PC 17599  71.2833          C85        C  \n",
            "3        0    113803  53.1000         C123        S  \n",
            "6        0     17463  51.8625          E46        S  \n",
            "10       1   PP 9549  16.7000           G6        S  \n",
            "11       0    113783  26.5500         C103        S  \n",
            "..     ...       ...      ...          ...      ...  \n",
            "871      1     11751  52.5542          D35        S  \n",
            "872      0       695   5.0000  B51 B53 B55        S  \n",
            "879      1     11767  83.1583          C50        C  \n",
            "887      0    112053  30.0000          B42        S  \n",
            "889      0    111369  30.0000         C148        C  \n",
            "\n",
            "[183 rows x 12 columns]\n"
          ]
        }
      ]
    },
    {
      "cell_type": "code",
      "source": [
        "df.fillna(\"Unknown\", inplace=True)"
      ],
      "metadata": {
        "id": "Xxhb1KehOyp1"
      },
      "execution_count": 11,
      "outputs": []
    },
    {
      "cell_type": "code",
      "source": [
        "df = df.rename(columns={'Name': 'Full Name', 'Age': 'Years'})\n",
        "print(df)\n"
      ],
      "metadata": {
        "id": "e58grgZDO5Sl",
        "outputId": "345c9874-1077-4373-8005-9d57bedb28f2",
        "colab": {
          "base_uri": "https://localhost:8080/"
        }
      },
      "execution_count": 12,
      "outputs": [
        {
          "output_type": "stream",
          "name": "stdout",
          "text": [
            "     PassengerId  Survived  Pclass  \\\n",
            "1              2         1       1   \n",
            "3              4         1       1   \n",
            "6              7         0       1   \n",
            "10            11         1       3   \n",
            "11            12         1       1   \n",
            "..           ...       ...     ...   \n",
            "871          872         1       1   \n",
            "872          873         0       1   \n",
            "879          880         1       1   \n",
            "887          888         1       1   \n",
            "889          890         1       1   \n",
            "\n",
            "                                             Full Name     Sex  Years  SibSp  \\\n",
            "1    Cumings, Mrs. John Bradley (Florence Briggs Th...  female   38.0      1   \n",
            "3         Futrelle, Mrs. Jacques Heath (Lily May Peel)  female   35.0      1   \n",
            "6                              McCarthy, Mr. Timothy J    male   54.0      0   \n",
            "10                     Sandstrom, Miss. Marguerite Rut  female    4.0      1   \n",
            "11                            Bonnell, Miss. Elizabeth  female   58.0      0   \n",
            "..                                                 ...     ...    ...    ...   \n",
            "871   Beckwith, Mrs. Richard Leonard (Sallie Monypeny)  female   47.0      1   \n",
            "872                           Carlsson, Mr. Frans Olof    male   33.0      0   \n",
            "879      Potter, Mrs. Thomas Jr (Lily Alexenia Wilson)  female   56.0      0   \n",
            "887                       Graham, Miss. Margaret Edith  female   19.0      0   \n",
            "889                              Behr, Mr. Karl Howell    male   26.0      0   \n",
            "\n",
            "     Parch    Ticket     Fare        Cabin Embarked  \n",
            "1        0  PC 17599  71.2833          C85        C  \n",
            "3        0    113803  53.1000         C123        S  \n",
            "6        0     17463  51.8625          E46        S  \n",
            "10       1   PP 9549  16.7000           G6        S  \n",
            "11       0    113783  26.5500         C103        S  \n",
            "..     ...       ...      ...          ...      ...  \n",
            "871      1     11751  52.5542          D35        S  \n",
            "872      0       695   5.0000  B51 B53 B55        S  \n",
            "879      1     11767  83.1583          C50        C  \n",
            "887      0    112053  30.0000          B42        S  \n",
            "889      0    111369  30.0000         C148        C  \n",
            "\n",
            "[183 rows x 12 columns]\n"
          ]
        }
      ]
    },
    {
      "cell_type": "code",
      "source": [
        "print(df.isnull().sum())\n"
      ],
      "metadata": {
        "id": "8RlbsfwDPI29",
        "outputId": "f0585b3f-a6a7-4611-c7f4-ff1c5406e92b",
        "colab": {
          "base_uri": "https://localhost:8080/"
        }
      },
      "execution_count": 13,
      "outputs": [
        {
          "output_type": "stream",
          "name": "stdout",
          "text": [
            "PassengerId    0\n",
            "Survived       0\n",
            "Pclass         0\n",
            "Full Name      0\n",
            "Sex            0\n",
            "Years          0\n",
            "SibSp          0\n",
            "Parch          0\n",
            "Ticket         0\n",
            "Fare           0\n",
            "Cabin          0\n",
            "Embarked       0\n",
            "dtype: int64\n"
          ]
        }
      ]
    },
    {
      "cell_type": "code",
      "source": [
        "df.sort_values(by=\"Years\", ascending=False, inplace=True)\n",
        "print(df)\n"
      ],
      "metadata": {
        "id": "lcMJWlPCPNI4",
        "outputId": "277f1b28-4d22-4503-b5c7-efe1103a4612",
        "colab": {
          "base_uri": "https://localhost:8080/"
        }
      },
      "execution_count": 15,
      "outputs": [
        {
          "output_type": "stream",
          "name": "stdout",
          "text": [
            "     PassengerId  Survived  Pclass                             Full Name  \\\n",
            "630          631         1       1  Barkworth, Mr. Algernon Henry Wilson   \n",
            "96            97         0       1             Goldschmidt, Mr. George B   \n",
            "745          746         0       1          Crosby, Capt. Edward Gifford   \n",
            "54            55         0       1        Ostby, Mr. Engelhart Cornelius   \n",
            "456          457         0       1             Millet, Mr. Francis Davis   \n",
            "..           ...       ...     ...                                   ...   \n",
            "205          206         0       3            Strom, Miss. Telma Matilda   \n",
            "340          341         1       2        Navratil, Master. Edmond Roger   \n",
            "297          298         0       1          Allison, Miss. Helen Loraine   \n",
            "183          184         1       2             Becker, Master. Richard F   \n",
            "305          306         1       1        Allison, Master. Hudson Trevor   \n",
            "\n",
            "        Sex  Years  SibSp  Parch     Ticket      Fare    Cabin Embarked  \n",
            "630    male  80.00      0      0      27042   30.0000      A23        S  \n",
            "96     male  71.00      0      0   PC 17754   34.6542       A5        C  \n",
            "745    male  70.00      1      1  WE/P 5735   71.0000      B22        S  \n",
            "54     male  65.00      0      1     113509   61.9792      B30        C  \n",
            "456    male  65.00      0      0      13509   26.5500      E38        S  \n",
            "..      ...    ...    ...    ...        ...       ...      ...      ...  \n",
            "205  female   2.00      0      1     347054   10.4625       G6        S  \n",
            "340    male   2.00      1      1     230080   26.0000       F2        S  \n",
            "297  female   2.00      1      2     113781  151.5500  C22 C26        S  \n",
            "183    male   1.00      2      1     230136   39.0000       F4        S  \n",
            "305    male   0.92      1      2     113781  151.5500  C22 C26        S  \n",
            "\n",
            "[183 rows x 12 columns]\n"
          ]
        }
      ]
    },
    {
      "cell_type": "code",
      "source": [
        "df.sort_values(by=\"Years\", ascending=True, inplace=True)\n",
        "print(df)"
      ],
      "metadata": {
        "id": "aQJO82ffP6Dh",
        "outputId": "c0d1b8d5-3a9c-4d8c-93cd-f20e91b115c2",
        "colab": {
          "base_uri": "https://localhost:8080/"
        }
      },
      "execution_count": 18,
      "outputs": [
        {
          "output_type": "stream",
          "name": "stdout",
          "text": [
            "     PassengerId  Survived  Pclass                             Full Name  \\\n",
            "305          306         1       1        Allison, Master. Hudson Trevor   \n",
            "183          184         1       2             Becker, Master. Richard F   \n",
            "205          206         0       3            Strom, Miss. Telma Matilda   \n",
            "340          341         1       2        Navratil, Master. Edmond Roger   \n",
            "297          298         0       1          Allison, Miss. Helen Loraine   \n",
            "..           ...       ...     ...                                   ...   \n",
            "54            55         0       1        Ostby, Mr. Engelhart Cornelius   \n",
            "456          457         0       1             Millet, Mr. Francis Davis   \n",
            "745          746         0       1          Crosby, Capt. Edward Gifford   \n",
            "96            97         0       1             Goldschmidt, Mr. George B   \n",
            "630          631         1       1  Barkworth, Mr. Algernon Henry Wilson   \n",
            "\n",
            "        Sex  Years  SibSp  Parch     Ticket      Fare    Cabin Embarked  \n",
            "305    male   0.92      1      2     113781  151.5500  C22 C26        S  \n",
            "183    male   1.00      2      1     230136   39.0000       F4        S  \n",
            "205  female   2.00      0      1     347054   10.4625       G6        S  \n",
            "340    male   2.00      1      1     230080   26.0000       F2        S  \n",
            "297  female   2.00      1      2     113781  151.5500  C22 C26        S  \n",
            "..      ...    ...    ...    ...        ...       ...      ...      ...  \n",
            "54     male  65.00      0      1     113509   61.9792      B30        C  \n",
            "456    male  65.00      0      0      13509   26.5500      E38        S  \n",
            "745    male  70.00      1      1  WE/P 5735   71.0000      B22        S  \n",
            "96     male  71.00      0      0   PC 17754   34.6542       A5        C  \n",
            "630    male  80.00      0      0      27042   30.0000      A23        S  \n",
            "\n",
            "[183 rows x 12 columns]\n"
          ]
        }
      ]
    },
    {
      "cell_type": "code",
      "source": [
        "df1 = pd.DataFrame({\n",
        "    'Name': ['Alice', 'Bob'],\n",
        "    'Age': [25, 30]\n",
        "})\n",
        "\n",
        "df2 = pd.DataFrame({\n",
        "    'Name': ['Alice', 'Bob'],\n",
        "    'City': ['New York', 'San Francisco']\n",
        "})\n",
        "\n",
        "merged_df = pd.merge(df1, df2, on='Name')\n",
        "print(merged_df)\n"
      ],
      "metadata": {
        "id": "7CUgOnW5T135",
        "outputId": "2c770997-5589-4f4a-fc7c-d3bab7eb0115",
        "colab": {
          "base_uri": "https://localhost:8080/"
        }
      },
      "execution_count": 22,
      "outputs": [
        {
          "output_type": "stream",
          "name": "stdout",
          "text": [
            "    Name  Age           City\n",
            "0  Alice   25       New York\n",
            "1    Bob   30  San Francisco\n"
          ]
        }
      ]
    },
    {
      "cell_type": "code",
      "source": [
        "import numpy as np"
      ],
      "metadata": {
        "id": "ZmnIS5KqbrtD"
      },
      "execution_count": 23,
      "outputs": []
    },
    {
      "cell_type": "code",
      "source": [
        "age_column = df['Years'].to_numpy()"
      ],
      "metadata": {
        "id": "WVmtr3D3cQAC"
      },
      "execution_count": 27,
      "outputs": []
    },
    {
      "cell_type": "code",
      "source": [
        "print(age_column)"
      ],
      "metadata": {
        "id": "cTSmTSYjcjut",
        "outputId": "0492ab4c-affd-47ae-df6a-8aa0fb89d753",
        "colab": {
          "base_uri": "https://localhost:8080/"
        }
      },
      "execution_count": 28,
      "outputs": [
        {
          "output_type": "stream",
          "name": "stdout",
          "text": [
            "[ 0.92  1.    2.    2.    2.    3.    4.    4.    4.    6.   11.   14.\n",
            " 15.   16.   16.   16.   17.   17.   17.   18.   18.   18.   18.   19.\n",
            " 19.   19.   19.   19.   19.   21.   21.   21.   22.   22.   22.   23.\n",
            " 23.   23.   23.   24.   24.   24.   24.   24.   24.   24.   24.   24.\n",
            " 25.   25.   25.   25.   26.   27.   27.   27.   27.   27.   28.   28.\n",
            " 29.   29.   29.   29.   29.   30.   30.   30.   30.   31.   31.   31.\n",
            " 31.   31.   32.   32.   32.   32.5  33.   33.   33.   33.   34.   34.\n",
            " 35.   35.   35.   35.   35.   35.   36.   36.   36.   36.   36.   36.\n",
            " 36.   36.   36.   36.   36.   36.5  37.   37.   37.   38.   38.   38.\n",
            " 38.   39.   39.   39.   39.   39.   40.   40.   40.   40.   41.   42.\n",
            " 42.   42.   43.   44.   44.   44.   45.   45.   45.   45.5  46.   46.\n",
            " 47.   47.   47.   47.   47.   48.   48.   48.   48.   48.   49.   49.\n",
            " 49.   49.   49.   50.   50.   50.   50.   51.   51.   52.   52.   52.\n",
            " 52.   53.   54.   54.   54.   55.   56.   56.   56.   57.   58.   58.\n",
            " 58.   58.   58.   60.   60.   61.   61.   62.   63.   64.   65.   65.\n",
            " 70.   71.   80.  ]\n"
          ]
        }
      ]
    }
  ]
}