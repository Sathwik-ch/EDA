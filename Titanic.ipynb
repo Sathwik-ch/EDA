{
  "nbformat": 4,
  "nbformat_minor": 0,
  "metadata": {
    "colab": {
      "provenance": [],
      "authorship_tag": "ABX9TyOKi3SsqdFQoYdFyaxXLvlV",
      "include_colab_link": true
    },
    "kernelspec": {
      "name": "python3",
      "display_name": "Python 3"
    },
    "language_info": {
      "name": "python"
    }
  },
  "cells": [
    {
      "cell_type": "markdown",
      "metadata": {
        "id": "view-in-github",
        "colab_type": "text"
      },
      "source": [
        "<a href=\"https://colab.research.google.com/github/Sathwik-ch/EDA/blob/main/Titanic.ipynb\" target=\"_parent\"><img src=\"https://colab.research.google.com/assets/colab-badge.svg\" alt=\"Open In Colab\"/></a>"
      ]
    },
    {
      "cell_type": "code",
      "source": [
        "import pandas as pd\n"
      ],
      "metadata": {
        "id": "EZal6dRcEa8P"
      },
      "execution_count": 1,
      "outputs": []
    },
    {
      "cell_type": "code",
      "source": [
        "df = pd.read_csv(\"Titanic-Dataset.csv\")\n",
        "print(\"File loaded successfully!\")"
      ],
      "metadata": {
        "id": "5NcWN4_AEd3P",
        "outputId": "155fff24-904d-4e23-eeef-2bacd2933362",
        "colab": {
          "base_uri": "https://localhost:8080/"
        }
      },
      "execution_count": 3,
      "outputs": [
        {
          "output_type": "stream",
          "name": "stdout",
          "text": [
            "File loaded successfully!\n"
          ]
        }
      ]
    },
    {
      "cell_type": "code",
      "source": [
        "print(df.shape)"
      ],
      "metadata": {
        "id": "-cGCCp6_EtTL",
        "outputId": "9622c4dd-1415-40ab-db72-e3a583569542",
        "colab": {
          "base_uri": "https://localhost:8080/"
        }
      },
      "execution_count": 4,
      "outputs": [
        {
          "output_type": "stream",
          "name": "stdout",
          "text": [
            "(891, 12)\n"
          ]
        }
      ]
    },
    {
      "cell_type": "code",
      "source": [
        "print(df.head())"
      ],
      "metadata": {
        "id": "RYz-4QvbEzIb",
        "outputId": "b502aae8-2ed2-4fe4-84fe-22b437c33fd4",
        "colab": {
          "base_uri": "https://localhost:8080/"
        }
      },
      "execution_count": null,
      "outputs": [
        {
          "output_type": "stream",
          "name": "stdout",
          "text": [
            "   PassengerId  Survived  Pclass  \\\n",
            "0            1         0       3   \n",
            "1            2         1       1   \n",
            "2            3         1       3   \n",
            "3            4         1       1   \n",
            "4            5         0       3   \n",
            "\n",
            "                                                Name     Sex   Age  SibSp  \\\n",
            "0                            Braund, Mr. Owen Harris    male  22.0      1   \n",
            "1  Cumings, Mrs. John Bradley (Florence Briggs Th...  female  38.0      1   \n",
            "2                             Heikkinen, Miss. Laina  female  26.0      0   \n",
            "3       Futrelle, Mrs. Jacques Heath (Lily May Peel)  female  35.0      1   \n",
            "4                           Allen, Mr. William Henry    male  35.0      0   \n",
            "\n",
            "   Parch            Ticket     Fare Cabin Embarked  \n",
            "0      0         A/5 21171   7.2500   NaN        S  \n",
            "1      0          PC 17599  71.2833   C85        C  \n",
            "2      0  STON/O2. 3101282   7.9250   NaN        S  \n",
            "3      0            113803  53.1000  C123        S  \n",
            "4      0            373450   8.0500   NaN        S  \n"
          ]
        }
      ]
    },
    {
      "cell_type": "code",
      "source": [
        "print(df.tail())"
      ],
      "metadata": {
        "id": "vTFTuYGSFxzT",
        "outputId": "767d9860-313a-47bc-813c-b94ced6889d8",
        "colab": {
          "base_uri": "https://localhost:8080/"
        }
      },
      "execution_count": null,
      "outputs": [
        {
          "output_type": "stream",
          "name": "stdout",
          "text": [
            "     PassengerId  Survived  Pclass                                      Name  \\\n",
            "886          887         0       2                     Montvila, Rev. Juozas   \n",
            "887          888         1       1              Graham, Miss. Margaret Edith   \n",
            "888          889         0       3  Johnston, Miss. Catherine Helen \"Carrie\"   \n",
            "889          890         1       1                     Behr, Mr. Karl Howell   \n",
            "890          891         0       3                       Dooley, Mr. Patrick   \n",
            "\n",
            "        Sex   Age  SibSp  Parch      Ticket   Fare Cabin Embarked  \n",
            "886    male  27.0      0      0      211536  13.00   NaN        S  \n",
            "887  female  19.0      0      0      112053  30.00   B42        S  \n",
            "888  female   NaN      1      2  W./C. 6607  23.45   NaN        S  \n",
            "889    male  26.0      0      0      111369  30.00  C148        C  \n",
            "890    male  32.0      0      0      370376   7.75   NaN        Q  \n"
          ]
        }
      ]
    },
    {
      "cell_type": "code",
      "source": [
        "print(df)"
      ],
      "metadata": {
        "id": "7-mksP0sF7iO",
        "outputId": "6de1aa0e-453e-4b5b-a180-154aaedb0177",
        "colab": {
          "base_uri": "https://localhost:8080/"
        }
      },
      "execution_count": null,
      "outputs": [
        {
          "output_type": "stream",
          "name": "stdout",
          "text": [
            "     PassengerId  Survived  Pclass  \\\n",
            "0              1         0       3   \n",
            "1              2         1       1   \n",
            "2              3         1       3   \n",
            "3              4         1       1   \n",
            "4              5         0       3   \n",
            "..           ...       ...     ...   \n",
            "886          887         0       2   \n",
            "887          888         1       1   \n",
            "888          889         0       3   \n",
            "889          890         1       1   \n",
            "890          891         0       3   \n",
            "\n",
            "                                                  Name     Sex   Age  SibSp  \\\n",
            "0                              Braund, Mr. Owen Harris    male  22.0      1   \n",
            "1    Cumings, Mrs. John Bradley (Florence Briggs Th...  female  38.0      1   \n",
            "2                               Heikkinen, Miss. Laina  female  26.0      0   \n",
            "3         Futrelle, Mrs. Jacques Heath (Lily May Peel)  female  35.0      1   \n",
            "4                             Allen, Mr. William Henry    male  35.0      0   \n",
            "..                                                 ...     ...   ...    ...   \n",
            "886                              Montvila, Rev. Juozas    male  27.0      0   \n",
            "887                       Graham, Miss. Margaret Edith  female  19.0      0   \n",
            "888           Johnston, Miss. Catherine Helen \"Carrie\"  female   NaN      1   \n",
            "889                              Behr, Mr. Karl Howell    male  26.0      0   \n",
            "890                                Dooley, Mr. Patrick    male  32.0      0   \n",
            "\n",
            "     Parch            Ticket     Fare Cabin Embarked  \n",
            "0        0         A/5 21171   7.2500   NaN        S  \n",
            "1        0          PC 17599  71.2833   C85        C  \n",
            "2        0  STON/O2. 3101282   7.9250   NaN        S  \n",
            "3        0            113803  53.1000  C123        S  \n",
            "4        0            373450   8.0500   NaN        S  \n",
            "..     ...               ...      ...   ...      ...  \n",
            "886      0            211536  13.0000   NaN        S  \n",
            "887      0            112053  30.0000   B42        S  \n",
            "888      2        W./C. 6607  23.4500   NaN        S  \n",
            "889      0            111369  30.0000  C148        C  \n",
            "890      0            370376   7.7500   NaN        Q  \n",
            "\n",
            "[891 rows x 12 columns]\n"
          ]
        }
      ]
    },
    {
      "cell_type": "code",
      "source": [
        "print(df.columns)"
      ],
      "metadata": {
        "id": "pxR6obfMIXdN",
        "outputId": "cf74d093-8ae6-4157-bffb-627c3c14a36c",
        "colab": {
          "base_uri": "https://localhost:8080/"
        }
      },
      "execution_count": null,
      "outputs": [
        {
          "output_type": "stream",
          "name": "stdout",
          "text": [
            "Index(['PassengerId', 'Survived', 'Pclass', 'Name', 'Sex', 'Age', 'SibSp',\n",
            "       'Parch', 'Ticket', 'Fare', 'Cabin', 'Embarked'],\n",
            "      dtype='object')\n"
          ]
        }
      ]
    },
    {
      "cell_type": "code",
      "source": [
        "print(df.info())"
      ],
      "metadata": {
        "id": "GdTp0-UNIdyx",
        "outputId": "406a0d9e-e1f3-4d48-c56a-2cadf17be18f",
        "colab": {
          "base_uri": "https://localhost:8080/"
        }
      },
      "execution_count": null,
      "outputs": [
        {
          "output_type": "stream",
          "name": "stdout",
          "text": [
            "<class 'pandas.core.frame.DataFrame'>\n",
            "RangeIndex: 891 entries, 0 to 890\n",
            "Data columns (total 12 columns):\n",
            " #   Column       Non-Null Count  Dtype  \n",
            "---  ------       --------------  -----  \n",
            " 0   PassengerId  891 non-null    int64  \n",
            " 1   Survived     891 non-null    int64  \n",
            " 2   Pclass       891 non-null    int64  \n",
            " 3   Name         891 non-null    object \n",
            " 4   Sex          891 non-null    object \n",
            " 5   Age          714 non-null    float64\n",
            " 6   SibSp        891 non-null    int64  \n",
            " 7   Parch        891 non-null    int64  \n",
            " 8   Ticket       891 non-null    object \n",
            " 9   Fare         891 non-null    float64\n",
            " 10  Cabin        204 non-null    object \n",
            " 11  Embarked     889 non-null    object \n",
            "dtypes: float64(2), int64(5), object(5)\n",
            "memory usage: 83.7+ KB\n",
            "None\n"
          ]
        }
      ]
    },
    {
      "cell_type": "code",
      "source": [
        "print(df.describe())"
      ],
      "metadata": {
        "id": "XStFiKTFInWt",
        "outputId": "c5cfa12e-86f9-4e99-fba9-5c71749af2dc",
        "colab": {
          "base_uri": "https://localhost:8080/"
        }
      },
      "execution_count": null,
      "outputs": [
        {
          "output_type": "stream",
          "name": "stdout",
          "text": [
            "       PassengerId    Survived      Pclass         Age       SibSp  \\\n",
            "count   891.000000  891.000000  891.000000  714.000000  891.000000   \n",
            "mean    446.000000    0.383838    2.308642   29.699118    0.523008   \n",
            "std     257.353842    0.486592    0.836071   14.526497    1.102743   \n",
            "min       1.000000    0.000000    1.000000    0.420000    0.000000   \n",
            "25%     223.500000    0.000000    2.000000   20.125000    0.000000   \n",
            "50%     446.000000    0.000000    3.000000   28.000000    0.000000   \n",
            "75%     668.500000    1.000000    3.000000   38.000000    1.000000   \n",
            "max     891.000000    1.000000    3.000000   80.000000    8.000000   \n",
            "\n",
            "            Parch        Fare  \n",
            "count  891.000000  891.000000  \n",
            "mean     0.381594   32.204208  \n",
            "std      0.806057   49.693429  \n",
            "min      0.000000    0.000000  \n",
            "25%      0.000000    7.910400  \n",
            "50%      0.000000   14.454200  \n",
            "75%      0.000000   31.000000  \n",
            "max      6.000000  512.329200  \n"
          ]
        }
      ]
    },
    {
      "cell_type": "code",
      "source": [
        "print(df['Survived'])\n"
      ],
      "metadata": {
        "id": "idyugSGFJ000",
        "outputId": "959bd822-943b-4e10-9e5e-64bb7c62da4b",
        "colab": {
          "base_uri": "https://localhost:8080/"
        }
      },
      "execution_count": null,
      "outputs": [
        {
          "output_type": "stream",
          "name": "stdout",
          "text": [
            "0      0\n",
            "1      1\n",
            "2      1\n",
            "3      1\n",
            "4      0\n",
            "      ..\n",
            "886    0\n",
            "887    1\n",
            "888    0\n",
            "889    1\n",
            "890    0\n",
            "Name: Survived, Length: 891, dtype: int64\n"
          ]
        }
      ]
    },
    {
      "cell_type": "code",
      "source": [
        "print(df[['Name', 'Sex']])\n"
      ],
      "metadata": {
        "id": "2Hu8kKujUuF0",
        "outputId": "37bf19c5-cb43-4ad0-f9d0-4c9f2e325489",
        "colab": {
          "base_uri": "https://localhost:8080/"
        }
      },
      "execution_count": null,
      "outputs": [
        {
          "output_type": "stream",
          "name": "stdout",
          "text": [
            "                                                  Name     Sex\n",
            "0                              Braund, Mr. Owen Harris    male\n",
            "1    Cumings, Mrs. John Bradley (Florence Briggs Th...  female\n",
            "2                               Heikkinen, Miss. Laina  female\n",
            "3         Futrelle, Mrs. Jacques Heath (Lily May Peel)  female\n",
            "4                             Allen, Mr. William Henry    male\n",
            "..                                                 ...     ...\n",
            "886                              Montvila, Rev. Juozas    male\n",
            "887                       Graham, Miss. Margaret Edith  female\n",
            "888           Johnston, Miss. Catherine Helen \"Carrie\"  female\n",
            "889                              Behr, Mr. Karl Howell    male\n",
            "890                                Dooley, Mr. Patrick    male\n",
            "\n",
            "[891 rows x 2 columns]\n"
          ]
        }
      ]
    },
    {
      "cell_type": "code",
      "source": [
        "print(df.iloc[1])\n"
      ],
      "metadata": {
        "id": "5rqDqKljVORy",
        "outputId": "0577a9f7-ec8f-44fd-d15b-4a60ce0b07ee",
        "colab": {
          "base_uri": "https://localhost:8080/"
        }
      },
      "execution_count": null,
      "outputs": [
        {
          "output_type": "stream",
          "name": "stdout",
          "text": [
            "PassengerId                                                    2\n",
            "Survived                                                       1\n",
            "Pclass                                                         1\n",
            "Name           Cumings, Mrs. John Bradley (Florence Briggs Th...\n",
            "Sex                                                       female\n",
            "Age                                                         38.0\n",
            "SibSp                                                          1\n",
            "Parch                                                          0\n",
            "Ticket                                                  PC 17599\n",
            "Fare                                                     71.2833\n",
            "Cabin                                                        C85\n",
            "Embarked                                                       C\n",
            "Name: 1, dtype: object\n"
          ]
        }
      ]
    },
    {
      "cell_type": "code",
      "source": [
        "print(df[df['Age'] > 30])\n"
      ],
      "metadata": {
        "id": "hYhATDnIWEsX",
        "outputId": "9ae74fcb-0004-420b-fd71-8aee41d8dea8",
        "colab": {
          "base_uri": "https://localhost:8080/"
        }
      },
      "execution_count": null,
      "outputs": [
        {
          "output_type": "stream",
          "name": "stdout",
          "text": [
            "     PassengerId  Survived  Pclass  \\\n",
            "1              2         1       1   \n",
            "3              4         1       1   \n",
            "4              5         0       3   \n",
            "6              7         0       1   \n",
            "11            12         1       1   \n",
            "..           ...       ...     ...   \n",
            "873          874         0       3   \n",
            "879          880         1       1   \n",
            "881          882         0       3   \n",
            "885          886         0       3   \n",
            "890          891         0       3   \n",
            "\n",
            "                                                  Name     Sex   Age  SibSp  \\\n",
            "1    Cumings, Mrs. John Bradley (Florence Briggs Th...  female  38.0      1   \n",
            "3         Futrelle, Mrs. Jacques Heath (Lily May Peel)  female  35.0      1   \n",
            "4                             Allen, Mr. William Henry    male  35.0      0   \n",
            "6                              McCarthy, Mr. Timothy J    male  54.0      0   \n",
            "11                            Bonnell, Miss. Elizabeth  female  58.0      0   \n",
            "..                                                 ...     ...   ...    ...   \n",
            "873                        Vander Cruyssen, Mr. Victor    male  47.0      0   \n",
            "879      Potter, Mrs. Thomas Jr (Lily Alexenia Wilson)  female  56.0      0   \n",
            "881                                 Markun, Mr. Johann    male  33.0      0   \n",
            "885               Rice, Mrs. William (Margaret Norton)  female  39.0      0   \n",
            "890                                Dooley, Mr. Patrick    male  32.0      0   \n",
            "\n",
            "     Parch    Ticket     Fare Cabin Embarked  \n",
            "1        0  PC 17599  71.2833   C85        C  \n",
            "3        0    113803  53.1000  C123        S  \n",
            "4        0    373450   8.0500   NaN        S  \n",
            "6        0     17463  51.8625   E46        S  \n",
            "11       0    113783  26.5500  C103        S  \n",
            "..     ...       ...      ...   ...      ...  \n",
            "873      0    345765   9.0000   NaN        S  \n",
            "879      1     11767  83.1583   C50        C  \n",
            "881      0    349257   7.8958   NaN        S  \n",
            "885      5    382652  29.1250   NaN        Q  \n",
            "890      0    370376   7.7500   NaN        Q  \n",
            "\n",
            "[305 rows x 12 columns]\n"
          ]
        }
      ]
    },
    {
      "cell_type": "code",
      "source": [
        "print(df.isnull().sum())\n"
      ],
      "metadata": {
        "id": "nHLIFg8KWI_n",
        "outputId": "784a35f8-57cd-4d2e-bf9f-758a01c25fc4",
        "colab": {
          "base_uri": "https://localhost:8080/"
        }
      },
      "execution_count": null,
      "outputs": [
        {
          "output_type": "stream",
          "name": "stdout",
          "text": [
            "PassengerId      0\n",
            "Survived         0\n",
            "Pclass           0\n",
            "Name             0\n",
            "Sex              0\n",
            "Age            177\n",
            "SibSp            0\n",
            "Parch            0\n",
            "Ticket           0\n",
            "Fare             0\n",
            "Cabin          687\n",
            "Embarked         2\n",
            "dtype: int64\n"
          ]
        }
      ]
    },
    {
      "cell_type": "code",
      "source": [
        "df.dropna(inplace=True)\n",
        "\n"
      ],
      "metadata": {
        "id": "0vdS1I1rWTro"
      },
      "execution_count": null,
      "outputs": []
    },
    {
      "cell_type": "code",
      "source": [
        "print(df)"
      ],
      "metadata": {
        "id": "4ShEAYZ4OoIx",
        "outputId": "d0043f48-275a-4df3-b1dd-8055155908f3",
        "colab": {
          "base_uri": "https://localhost:8080/"
        }
      },
      "execution_count": null,
      "outputs": [
        {
          "output_type": "stream",
          "name": "stdout",
          "text": [
            "     PassengerId  Survived  Pclass  \\\n",
            "1              2         1       1   \n",
            "3              4         1       1   \n",
            "6              7         0       1   \n",
            "10            11         1       3   \n",
            "11            12         1       1   \n",
            "..           ...       ...     ...   \n",
            "871          872         1       1   \n",
            "872          873         0       1   \n",
            "879          880         1       1   \n",
            "887          888         1       1   \n",
            "889          890         1       1   \n",
            "\n",
            "                                                  Name     Sex   Age  SibSp  \\\n",
            "1    Cumings, Mrs. John Bradley (Florence Briggs Th...  female  38.0      1   \n",
            "3         Futrelle, Mrs. Jacques Heath (Lily May Peel)  female  35.0      1   \n",
            "6                              McCarthy, Mr. Timothy J    male  54.0      0   \n",
            "10                     Sandstrom, Miss. Marguerite Rut  female   4.0      1   \n",
            "11                            Bonnell, Miss. Elizabeth  female  58.0      0   \n",
            "..                                                 ...     ...   ...    ...   \n",
            "871   Beckwith, Mrs. Richard Leonard (Sallie Monypeny)  female  47.0      1   \n",
            "872                           Carlsson, Mr. Frans Olof    male  33.0      0   \n",
            "879      Potter, Mrs. Thomas Jr (Lily Alexenia Wilson)  female  56.0      0   \n",
            "887                       Graham, Miss. Margaret Edith  female  19.0      0   \n",
            "889                              Behr, Mr. Karl Howell    male  26.0      0   \n",
            "\n",
            "     Parch    Ticket     Fare        Cabin Embarked  \n",
            "1        0  PC 17599  71.2833          C85        C  \n",
            "3        0    113803  53.1000         C123        S  \n",
            "6        0     17463  51.8625          E46        S  \n",
            "10       1   PP 9549  16.7000           G6        S  \n",
            "11       0    113783  26.5500         C103        S  \n",
            "..     ...       ...      ...          ...      ...  \n",
            "871      1     11751  52.5542          D35        S  \n",
            "872      0       695   5.0000  B51 B53 B55        S  \n",
            "879      1     11767  83.1583          C50        C  \n",
            "887      0    112053  30.0000          B42        S  \n",
            "889      0    111369  30.0000         C148        C  \n",
            "\n",
            "[183 rows x 12 columns]\n"
          ]
        }
      ]
    },
    {
      "cell_type": "code",
      "source": [
        "df.fillna(\"Unknown\", inplace=True)"
      ],
      "metadata": {
        "id": "Xxhb1KehOyp1"
      },
      "execution_count": null,
      "outputs": []
    },
    {
      "cell_type": "code",
      "source": [
        "df = df.rename(columns={'Name': 'Full Name', 'Age': 'Years'})\n",
        "print(df)\n"
      ],
      "metadata": {
        "id": "e58grgZDO5Sl",
        "outputId": "345c9874-1077-4373-8005-9d57bedb28f2",
        "colab": {
          "base_uri": "https://localhost:8080/"
        }
      },
      "execution_count": null,
      "outputs": [
        {
          "output_type": "stream",
          "name": "stdout",
          "text": [
            "     PassengerId  Survived  Pclass  \\\n",
            "1              2         1       1   \n",
            "3              4         1       1   \n",
            "6              7         0       1   \n",
            "10            11         1       3   \n",
            "11            12         1       1   \n",
            "..           ...       ...     ...   \n",
            "871          872         1       1   \n",
            "872          873         0       1   \n",
            "879          880         1       1   \n",
            "887          888         1       1   \n",
            "889          890         1       1   \n",
            "\n",
            "                                             Full Name     Sex  Years  SibSp  \\\n",
            "1    Cumings, Mrs. John Bradley (Florence Briggs Th...  female   38.0      1   \n",
            "3         Futrelle, Mrs. Jacques Heath (Lily May Peel)  female   35.0      1   \n",
            "6                              McCarthy, Mr. Timothy J    male   54.0      0   \n",
            "10                     Sandstrom, Miss. Marguerite Rut  female    4.0      1   \n",
            "11                            Bonnell, Miss. Elizabeth  female   58.0      0   \n",
            "..                                                 ...     ...    ...    ...   \n",
            "871   Beckwith, Mrs. Richard Leonard (Sallie Monypeny)  female   47.0      1   \n",
            "872                           Carlsson, Mr. Frans Olof    male   33.0      0   \n",
            "879      Potter, Mrs. Thomas Jr (Lily Alexenia Wilson)  female   56.0      0   \n",
            "887                       Graham, Miss. Margaret Edith  female   19.0      0   \n",
            "889                              Behr, Mr. Karl Howell    male   26.0      0   \n",
            "\n",
            "     Parch    Ticket     Fare        Cabin Embarked  \n",
            "1        0  PC 17599  71.2833          C85        C  \n",
            "3        0    113803  53.1000         C123        S  \n",
            "6        0     17463  51.8625          E46        S  \n",
            "10       1   PP 9549  16.7000           G6        S  \n",
            "11       0    113783  26.5500         C103        S  \n",
            "..     ...       ...      ...          ...      ...  \n",
            "871      1     11751  52.5542          D35        S  \n",
            "872      0       695   5.0000  B51 B53 B55        S  \n",
            "879      1     11767  83.1583          C50        C  \n",
            "887      0    112053  30.0000          B42        S  \n",
            "889      0    111369  30.0000         C148        C  \n",
            "\n",
            "[183 rows x 12 columns]\n"
          ]
        }
      ]
    },
    {
      "cell_type": "code",
      "source": [
        "print(df.isnull().sum())\n"
      ],
      "metadata": {
        "id": "8RlbsfwDPI29",
        "outputId": "f0585b3f-a6a7-4611-c7f4-ff1c5406e92b",
        "colab": {
          "base_uri": "https://localhost:8080/"
        }
      },
      "execution_count": null,
      "outputs": [
        {
          "output_type": "stream",
          "name": "stdout",
          "text": [
            "PassengerId    0\n",
            "Survived       0\n",
            "Pclass         0\n",
            "Full Name      0\n",
            "Sex            0\n",
            "Years          0\n",
            "SibSp          0\n",
            "Parch          0\n",
            "Ticket         0\n",
            "Fare           0\n",
            "Cabin          0\n",
            "Embarked       0\n",
            "dtype: int64\n"
          ]
        }
      ]
    },
    {
      "cell_type": "code",
      "source": [
        "df.sort_values(by=\"Years\", ascending=False, inplace=True)\n",
        "print(df)\n"
      ],
      "metadata": {
        "id": "lcMJWlPCPNI4",
        "outputId": "277f1b28-4d22-4503-b5c7-efe1103a4612",
        "colab": {
          "base_uri": "https://localhost:8080/"
        }
      },
      "execution_count": null,
      "outputs": [
        {
          "output_type": "stream",
          "name": "stdout",
          "text": [
            "     PassengerId  Survived  Pclass                             Full Name  \\\n",
            "630          631         1       1  Barkworth, Mr. Algernon Henry Wilson   \n",
            "96            97         0       1             Goldschmidt, Mr. George B   \n",
            "745          746         0       1          Crosby, Capt. Edward Gifford   \n",
            "54            55         0       1        Ostby, Mr. Engelhart Cornelius   \n",
            "456          457         0       1             Millet, Mr. Francis Davis   \n",
            "..           ...       ...     ...                                   ...   \n",
            "205          206         0       3            Strom, Miss. Telma Matilda   \n",
            "340          341         1       2        Navratil, Master. Edmond Roger   \n",
            "297          298         0       1          Allison, Miss. Helen Loraine   \n",
            "183          184         1       2             Becker, Master. Richard F   \n",
            "305          306         1       1        Allison, Master. Hudson Trevor   \n",
            "\n",
            "        Sex  Years  SibSp  Parch     Ticket      Fare    Cabin Embarked  \n",
            "630    male  80.00      0      0      27042   30.0000      A23        S  \n",
            "96     male  71.00      0      0   PC 17754   34.6542       A5        C  \n",
            "745    male  70.00      1      1  WE/P 5735   71.0000      B22        S  \n",
            "54     male  65.00      0      1     113509   61.9792      B30        C  \n",
            "456    male  65.00      0      0      13509   26.5500      E38        S  \n",
            "..      ...    ...    ...    ...        ...       ...      ...      ...  \n",
            "205  female   2.00      0      1     347054   10.4625       G6        S  \n",
            "340    male   2.00      1      1     230080   26.0000       F2        S  \n",
            "297  female   2.00      1      2     113781  151.5500  C22 C26        S  \n",
            "183    male   1.00      2      1     230136   39.0000       F4        S  \n",
            "305    male   0.92      1      2     113781  151.5500  C22 C26        S  \n",
            "\n",
            "[183 rows x 12 columns]\n"
          ]
        }
      ]
    },
    {
      "cell_type": "code",
      "source": [
        "df.sort_values(by=\"Years\", ascending=True, inplace=True)\n",
        "print(df)"
      ],
      "metadata": {
        "id": "aQJO82ffP6Dh",
        "outputId": "c0d1b8d5-3a9c-4d8c-93cd-f20e91b115c2",
        "colab": {
          "base_uri": "https://localhost:8080/"
        }
      },
      "execution_count": null,
      "outputs": [
        {
          "output_type": "stream",
          "name": "stdout",
          "text": [
            "     PassengerId  Survived  Pclass                             Full Name  \\\n",
            "305          306         1       1        Allison, Master. Hudson Trevor   \n",
            "183          184         1       2             Becker, Master. Richard F   \n",
            "205          206         0       3            Strom, Miss. Telma Matilda   \n",
            "340          341         1       2        Navratil, Master. Edmond Roger   \n",
            "297          298         0       1          Allison, Miss. Helen Loraine   \n",
            "..           ...       ...     ...                                   ...   \n",
            "54            55         0       1        Ostby, Mr. Engelhart Cornelius   \n",
            "456          457         0       1             Millet, Mr. Francis Davis   \n",
            "745          746         0       1          Crosby, Capt. Edward Gifford   \n",
            "96            97         0       1             Goldschmidt, Mr. George B   \n",
            "630          631         1       1  Barkworth, Mr. Algernon Henry Wilson   \n",
            "\n",
            "        Sex  Years  SibSp  Parch     Ticket      Fare    Cabin Embarked  \n",
            "305    male   0.92      1      2     113781  151.5500  C22 C26        S  \n",
            "183    male   1.00      2      1     230136   39.0000       F4        S  \n",
            "205  female   2.00      0      1     347054   10.4625       G6        S  \n",
            "340    male   2.00      1      1     230080   26.0000       F2        S  \n",
            "297  female   2.00      1      2     113781  151.5500  C22 C26        S  \n",
            "..      ...    ...    ...    ...        ...       ...      ...      ...  \n",
            "54     male  65.00      0      1     113509   61.9792      B30        C  \n",
            "456    male  65.00      0      0      13509   26.5500      E38        S  \n",
            "745    male  70.00      1      1  WE/P 5735   71.0000      B22        S  \n",
            "96     male  71.00      0      0   PC 17754   34.6542       A5        C  \n",
            "630    male  80.00      0      0      27042   30.0000      A23        S  \n",
            "\n",
            "[183 rows x 12 columns]\n"
          ]
        }
      ]
    },
    {
      "cell_type": "code",
      "source": [
        "df1 = pd.DataFrame({\n",
        "    'Name': ['Alice', 'Bob'],\n",
        "    'Age': [25, 30]\n",
        "})\n",
        "\n",
        "df2 = pd.DataFrame({\n",
        "    'Name': ['Alice', 'Bob'],\n",
        "    'City': ['New York', 'San Francisco']\n",
        "})\n",
        "\n",
        "merged_df = pd.merge(df1, df2, on='Name')\n",
        "print(merged_df)\n"
      ],
      "metadata": {
        "id": "7CUgOnW5T135",
        "outputId": "2c770997-5589-4f4a-fc7c-d3bab7eb0115",
        "colab": {
          "base_uri": "https://localhost:8080/"
        }
      },
      "execution_count": null,
      "outputs": [
        {
          "output_type": "stream",
          "name": "stdout",
          "text": [
            "    Name  Age           City\n",
            "0  Alice   25       New York\n",
            "1    Bob   30  San Francisco\n"
          ]
        }
      ]
    },
    {
      "cell_type": "code",
      "source": [
        "import numpy as np"
      ],
      "metadata": {
        "id": "ZmnIS5KqbrtD"
      },
      "execution_count": 2,
      "outputs": []
    },
    {
      "cell_type": "code",
      "source": [
        "age_column = df['Years'].to_numpy()"
      ],
      "metadata": {
        "id": "WVmtr3D3cQAC"
      },
      "execution_count": null,
      "outputs": []
    },
    {
      "cell_type": "code",
      "source": [
        "print(age_column)"
      ],
      "metadata": {
        "id": "cTSmTSYjcjut",
        "outputId": "0492ab4c-affd-47ae-df6a-8aa0fb89d753",
        "colab": {
          "base_uri": "https://localhost:8080/"
        }
      },
      "execution_count": null,
      "outputs": [
        {
          "output_type": "stream",
          "name": "stdout",
          "text": [
            "[ 0.92  1.    2.    2.    2.    3.    4.    4.    4.    6.   11.   14.\n",
            " 15.   16.   16.   16.   17.   17.   17.   18.   18.   18.   18.   19.\n",
            " 19.   19.   19.   19.   19.   21.   21.   21.   22.   22.   22.   23.\n",
            " 23.   23.   23.   24.   24.   24.   24.   24.   24.   24.   24.   24.\n",
            " 25.   25.   25.   25.   26.   27.   27.   27.   27.   27.   28.   28.\n",
            " 29.   29.   29.   29.   29.   30.   30.   30.   30.   31.   31.   31.\n",
            " 31.   31.   32.   32.   32.   32.5  33.   33.   33.   33.   34.   34.\n",
            " 35.   35.   35.   35.   35.   35.   36.   36.   36.   36.   36.   36.\n",
            " 36.   36.   36.   36.   36.   36.5  37.   37.   37.   38.   38.   38.\n",
            " 38.   39.   39.   39.   39.   39.   40.   40.   40.   40.   41.   42.\n",
            " 42.   42.   43.   44.   44.   44.   45.   45.   45.   45.5  46.   46.\n",
            " 47.   47.   47.   47.   47.   48.   48.   48.   48.   48.   49.   49.\n",
            " 49.   49.   49.   50.   50.   50.   50.   51.   51.   52.   52.   52.\n",
            " 52.   53.   54.   54.   54.   55.   56.   56.   56.   57.   58.   58.\n",
            " 58.   58.   58.   60.   60.   61.   61.   62.   63.   64.   65.   65.\n",
            " 70.   71.   80.  ]\n"
          ]
        }
      ]
    },
    {
      "cell_type": "code",
      "source": [
        "ages = df['Age'].values"
      ],
      "metadata": {
        "id": "U5S0RWU4Xm4a"
      },
      "execution_count": 6,
      "outputs": []
    },
    {
      "cell_type": "code",
      "source": [
        "print(ages)"
      ],
      "metadata": {
        "id": "sD_tlFxpatta",
        "outputId": "cb820417-ad3d-4ce0-c9d0-6b767562dd35",
        "colab": {
          "base_uri": "https://localhost:8080/"
        }
      },
      "execution_count": 7,
      "outputs": [
        {
          "output_type": "stream",
          "name": "stdout",
          "text": [
            "[22.   38.   26.   35.   35.     nan 54.    2.   27.   14.    4.   58.\n",
            " 20.   39.   14.   55.    2.     nan 31.     nan 35.   34.   15.   28.\n",
            "  8.   38.     nan 19.     nan   nan 40.     nan   nan 66.   28.   42.\n",
            "   nan 21.   18.   14.   40.   27.     nan  3.   19.     nan   nan   nan\n",
            "   nan 18.    7.   21.   49.   29.   65.     nan 21.   28.5   5.   11.\n",
            " 22.   38.   45.    4.     nan   nan 29.   19.   17.   26.   32.   16.\n",
            " 21.   26.   32.   25.     nan   nan  0.83 30.   22.   29.     nan 28.\n",
            " 17.   33.   16.     nan 23.   24.   29.   20.   46.   26.   59.     nan\n",
            " 71.   23.   34.   34.   28.     nan 21.   33.   37.   28.   21.     nan\n",
            " 38.     nan 47.   14.5  22.   20.   17.   21.   70.5  29.   24.    2.\n",
            " 21.     nan 32.5  32.5  54.   12.     nan 24.     nan 45.   33.   20.\n",
            " 47.   29.   25.   23.   19.   37.   16.   24.     nan 22.   24.   19.\n",
            " 18.   19.   27.    9.   36.5  42.   51.   22.   55.5  40.5    nan 51.\n",
            " 16.   30.     nan   nan 44.   40.   26.   17.    1.    9.     nan 45.\n",
            "   nan 28.   61.    4.    1.   21.   56.   18.     nan 50.   30.   36.\n",
            "   nan   nan  9.    1.    4.     nan   nan 45.   40.   36.   32.   19.\n",
            " 19.    3.   44.   58.     nan 42.     nan 24.   28.     nan 34.   45.5\n",
            " 18.    2.   32.   26.   16.   40.   24.   35.   22.   30.     nan 31.\n",
            " 27.   42.   32.   30.   16.   27.   51.     nan 38.   22.   19.   20.5\n",
            " 18.     nan 35.   29.   59.    5.   24.     nan 44.    8.   19.   33.\n",
            "   nan   nan 29.   22.   30.   44.   25.   24.   37.   54.     nan 29.\n",
            " 62.   30.   41.   29.     nan 30.   35.   50.     nan  3.   52.   40.\n",
            "   nan 36.   16.   25.   58.   35.     nan 25.   41.   37.     nan 63.\n",
            " 45.     nan  7.   35.   65.   28.   16.   19.     nan 33.   30.   22.\n",
            " 42.   22.   26.   19.   36.   24.   24.     nan 23.5   2.     nan 50.\n",
            "   nan   nan 19.     nan   nan  0.92   nan 17.   30.   30.   24.   18.\n",
            " 26.   28.   43.   26.   24.   54.   31.   40.   22.   27.   30.   22.\n",
            "   nan 36.   61.   36.   31.   16.     nan 45.5  38.   16.     nan   nan\n",
            " 29.   41.   45.   45.    2.   24.   28.   25.   36.   24.   40.     nan\n",
            "  3.   42.   23.     nan 15.   25.     nan 28.   22.   38.     nan   nan\n",
            " 40.   29.   45.   35.     nan 30.   60.     nan   nan 24.   25.   18.\n",
            " 19.   22.    3.     nan 22.   27.   20.   19.   42.    1.   32.   35.\n",
            "   nan 18.    1.   36.     nan 17.   36.   21.   28.   23.   24.   22.\n",
            " 31.   46.   23.   28.   39.   26.   21.   28.   20.   34.   51.    3.\n",
            " 21.     nan   nan   nan 33.     nan 44.     nan 34.   18.   30.   10.\n",
            "   nan 21.   29.   28.   18.     nan 28.   19.     nan 32.   28.     nan\n",
            " 42.   17.   50.   14.   21.   24.   64.   31.   45.   20.   25.   28.\n",
            "   nan  4.   13.   34.    5.   52.   36.     nan 30.   49.     nan 29.\n",
            " 65.     nan 50.     nan 48.   34.   47.   48.     nan 38.     nan 56.\n",
            "   nan  0.75   nan 38.   33.   23.   22.     nan 34.   29.   22.    2.\n",
            "  9.     nan 50.   63.   25.     nan 35.   58.   30.    9.     nan 21.\n",
            " 55.   71.   21.     nan 54.     nan 25.   24.   17.   21.     nan 37.\n",
            " 16.   18.   33.     nan 28.   26.   29.     nan 36.   54.   24.   47.\n",
            " 34.     nan 36.   32.   30.   22.     nan 44.     nan 40.5  50.     nan\n",
            " 39.   23.    2.     nan 17.     nan 30.    7.   45.   30.     nan 22.\n",
            " 36.    9.   11.   32.   50.   64.   19.     nan 33.    8.   17.   27.\n",
            "   nan 22.   22.   62.   48.     nan 39.   36.     nan 40.   28.     nan\n",
            "   nan 24.   19.   29.     nan 32.   62.   53.   36.     nan 16.   19.\n",
            " 34.   39.     nan 32.   25.   39.   54.   36.     nan 18.   47.   60.\n",
            " 22.     nan 35.   52.   47.     nan 37.   36.     nan 49.     nan 49.\n",
            " 24.     nan   nan 44.   35.   36.   30.   27.   22.   40.   39.     nan\n",
            "   nan   nan 35.   24.   34.   26.    4.   26.   27.   42.   20.   21.\n",
            " 21.   61.   57.   21.   26.     nan 80.   51.   32.     nan  9.   28.\n",
            " 32.   31.   41.     nan 20.   24.    2.     nan  0.75 48.   19.   56.\n",
            "   nan 23.     nan 18.   21.     nan 18.   24.     nan 32.   23.   58.\n",
            " 50.   40.   47.   36.   20.   32.   25.     nan 43.     nan 40.   31.\n",
            " 70.   31.     nan 18.   24.5  18.   43.   36.     nan 27.   20.   14.\n",
            " 60.   25.   14.   19.   18.   15.   31.    4.     nan 25.   60.   52.\n",
            " 44.     nan 49.   42.   18.   35.   18.   25.   26.   39.   45.   42.\n",
            " 22.     nan 24.     nan 48.   29.   52.   19.   38.   27.     nan 33.\n",
            "  6.   17.   34.   50.   27.   20.   30.     nan 25.   25.   29.   11.\n",
            "   nan 23.   23.   28.5  48.   35.     nan   nan   nan 36.   21.   24.\n",
            " 31.   70.   16.   30.   19.   31.    4.    6.   33.   23.   48.    0.67\n",
            " 28.   18.   34.   33.     nan 41.   20.   36.   16.   51.     nan 30.5\n",
            "   nan 32.   24.   48.   57.     nan 54.   18.     nan  5.     nan 43.\n",
            " 13.   17.   29.     nan 25.   25.   18.    8.    1.   46.     nan 16.\n",
            "   nan   nan 25.   39.   49.   31.   30.   30.   34.   31.   11.    0.42\n",
            " 27.   31.   39.   18.   39.   33.   26.   39.   35.    6.   30.5    nan\n",
            " 23.   31.   43.   10.   52.   27.   38.   27.    2.     nan   nan  1.\n",
            "   nan 62.   15.    0.83   nan 23.   18.   39.   21.     nan 32.     nan\n",
            " 20.   16.   30.   34.5  17.   42.     nan 35.   28.     nan  4.   74.\n",
            "  9.   16.   44.   18.   45.   51.   24.     nan 41.   21.   48.     nan\n",
            " 24.   42.   27.   31.     nan  4.   26.   47.   33.   47.   28.   15.\n",
            " 20.   19.     nan 56.   25.   33.   22.   28.   25.   39.   27.   19.\n",
            "   nan 26.   32.  ]\n"
          ]
        }
      ]
    },
    {
      "cell_type": "code",
      "source": [
        "fares = df['Fare'].values\n",
        "print(fares)"
      ],
      "metadata": {
        "id": "C-vrOMw0a12x",
        "outputId": "05dba040-2b6c-40b5-b43b-16f12088bdc6",
        "colab": {
          "base_uri": "https://localhost:8080/"
        }
      },
      "execution_count": 9,
      "outputs": [
        {
          "output_type": "stream",
          "name": "stdout",
          "text": [
            "[  7.25    71.2833   7.925   53.1      8.05     8.4583  51.8625  21.075\n",
            "  11.1333  30.0708  16.7     26.55     8.05    31.275    7.8542  16.\n",
            "  29.125   13.      18.       7.225   26.      13.       8.0292  35.5\n",
            "  21.075   31.3875   7.225  263.       7.8792   7.8958  27.7208 146.5208\n",
            "   7.75    10.5     82.1708  52.       7.2292   8.05    18.      11.2417\n",
            "   9.475   21.       7.8958  41.5792   7.8792   8.05    15.5      7.75\n",
            "  21.6792  17.8     39.6875   7.8     76.7292  26.      61.9792  35.5\n",
            "  10.5      7.2292  27.75    46.9      7.2292  80.      83.475   27.9\n",
            "  27.7208  15.2458  10.5      8.1583   7.925    8.6625  10.5     46.9\n",
            "  73.5     14.4542  56.4958   7.65     7.8958   8.05    29.      12.475\n",
            "   9.       9.5      7.7875  47.1     10.5     15.85    34.375    8.05\n",
            " 263.       8.05     8.05     7.8542  61.175   20.575    7.25     8.05\n",
            "  34.6542  63.3583  23.      26.       7.8958   7.8958  77.2875   8.6542\n",
            "   7.925    7.8958   7.65     7.775    7.8958  24.15    52.      14.4542\n",
            "   8.05     9.825   14.4583   7.925    7.75    21.     247.5208  31.275\n",
            "  73.5      8.05    30.0708  13.      77.2875  11.2417   7.75     7.1417\n",
            "  22.3583   6.975    7.8958   7.05    14.5     26.      13.      15.0458\n",
            "  26.2833  53.1      9.2167  79.2     15.2458   7.75    15.85     6.75\n",
            "  11.5     36.75     7.7958  34.375   26.      13.      12.525   66.6\n",
            "   8.05    14.5      7.3125  61.3792   7.7333   8.05     8.6625  69.55\n",
            "  16.1     15.75     7.775    8.6625  39.6875  20.525   55.      27.9\n",
            "  25.925   56.4958  33.5     29.125   11.1333   7.925   30.6958   7.8542\n",
            "  25.4667  28.7125  13.       0.      69.55    15.05    31.3875  39.\n",
            "  22.025   50.      15.5     26.55    15.5      7.8958  13.      13.\n",
            "   7.8542  26.      27.7208 146.5208   7.75     8.4042   7.75    13.\n",
            "   9.5     69.55     6.4958   7.225    8.05    10.4625  15.85    18.7875\n",
            "   7.75    31.       7.05    21.       7.25    13.       7.75   113.275\n",
            "   7.925   27.      76.2917  10.5      8.05    13.       8.05     7.8958\n",
            "  90.       9.35    10.5      7.25    13.      25.4667  83.475    7.775\n",
            "  13.5     31.3875  10.5      7.55    26.      26.25    10.5     12.275\n",
            "  14.4542  15.5     10.5      7.125    7.225   90.       7.775   14.5\n",
            "  52.5542  26.       7.25    10.4625  26.55    16.1     20.2125  15.2458\n",
            "  79.2     86.5    512.3292  26.       7.75    31.3875  79.65     0.\n",
            "   7.75    10.5     39.6875   7.775  153.4625 135.6333  31.       0.\n",
            "  19.5     29.7      7.75    77.9583   7.75     0.      29.125   20.25\n",
            "   7.75     7.8542   9.5      8.05    26.       8.6625   9.5      7.8958\n",
            "  13.       7.75    78.85    91.0792  12.875    8.85     7.8958  27.7208\n",
            "   7.2292 151.55    30.5    247.5208   7.75    23.25     0.      12.35\n",
            "   8.05   151.55   110.8833 108.9     24.      56.9292  83.1583 262.375\n",
            "  26.       7.8958  26.25     7.8542  26.      14.     164.8667 134.5\n",
            "   7.25     7.8958  12.35    29.      69.55   135.6333   6.2375  13.\n",
            "  20.525   57.9792  23.25    28.5    153.4625  18.     133.65     7.8958\n",
            "  66.6    134.5      8.05    35.5     26.     263.      13.      13.\n",
            "  13.      13.      13.      16.1     15.9      8.6625   9.225   35.\n",
            "   7.2292  17.8      7.225    9.5     55.      13.       7.8792   7.8792\n",
            "  27.9     27.7208  14.4542   7.05    15.5      7.25    75.25     7.2292\n",
            "   7.75    69.3     55.4417   6.4958   8.05   135.6333  21.075   82.1708\n",
            "   7.25   211.5      4.0125   7.775  227.525   15.7417   7.925   52.\n",
            "   7.8958  73.5     46.9     13.       7.7292  12.     120.       7.7958\n",
            "   7.925  113.275   16.7      7.7958   7.8542  26.      10.5     12.65\n",
            "   7.925    8.05     9.825   15.85     8.6625  21.       7.75    18.75\n",
            "   7.775   25.4667   7.8958   6.8583  90.       0.       7.925    8.05\n",
            "  32.5     13.      13.      24.15     7.8958   7.7333   7.875   14.4\n",
            "  20.2125   7.25    26.      26.       7.75     8.05    26.55    16.1\n",
            "  26.       7.125   55.9    120.      34.375   18.75   263.      10.5\n",
            "  26.25     9.5      7.775   13.       8.1125  81.8583  19.5     26.55\n",
            "  19.2583  30.5     27.75    19.9667  27.75    89.1042   8.05     7.8958\n",
            "  26.55    51.8625  10.5      7.75    26.55     8.05    38.5     13.\n",
            "   8.05     7.05     0.      26.55     7.725   19.2583   7.25     8.6625\n",
            "  27.75    13.7917   9.8375  52.      21.       7.0458   7.5208  12.2875\n",
            "  46.9      0.       8.05     9.5875  91.0792  25.4667  90.      29.7\n",
            "   8.05    15.9     19.9667   7.25    30.5     49.5042   8.05    14.4583\n",
            "  78.2667  15.1    151.55     7.7958   8.6625   7.75     7.6292   9.5875\n",
            "  86.5    108.9     26.      26.55    22.525   56.4958   7.75     8.05\n",
            "  26.2875  59.4      7.4958  34.0208  10.5     24.15    26.       7.8958\n",
            "  93.5      7.8958   7.225   57.9792   7.2292   7.75    10.5    221.7792\n",
            "   7.925   11.5     26.       7.2292   7.2292  22.3583   8.6625  26.25\n",
            "  26.55   106.425   14.5     49.5     71.      31.275   31.275   26.\n",
            " 106.425   26.      26.      13.8625  20.525   36.75   110.8833  26.\n",
            "   7.8292   7.225    7.775   26.55    39.6    227.525   79.65    17.4\n",
            "   7.75     7.8958  13.5      8.05     8.05    24.15     7.8958  21.075\n",
            "   7.2292   7.8542  10.5     51.4792  26.3875   7.75     8.05    14.5\n",
            "  13.      55.9     14.4583   7.925   30.     110.8833  26.      40.125\n",
            "   8.7125  79.65    15.      79.2      8.05     8.05     7.125   78.2667\n",
            "   7.25     7.75    26.      24.15    33.       0.       7.225   56.9292\n",
            "  27.       7.8958  42.4      8.05    26.55    15.55     7.8958  30.5\n",
            "  41.5792 153.4625  31.275    7.05    15.5      7.75     8.05    65.\n",
            "  14.4     16.1     39.      10.5     14.4542  52.5542  15.7417   7.8542\n",
            "  16.1     32.3208  12.35    77.9583   7.8958   7.7333  30.       7.0542\n",
            "  30.5      0.      27.9     13.       7.925   26.25    39.6875  16.1\n",
            "   7.8542  69.3     27.9     56.4958  19.2583  76.7292   7.8958  35.5\n",
            "   7.55     7.55     7.8958  23.       8.4333   7.8292   6.75    73.5\n",
            "   7.8958  15.5     13.     113.275  133.65     7.225   25.5875   7.4958\n",
            "   7.925   73.5     13.       7.775    8.05    52.      39.      52.\n",
            "  10.5     13.       0.       7.775    8.05     9.8417  46.9    512.3292\n",
            "   8.1375  76.7292   9.225   46.9     39.      41.5792  39.6875  10.1708\n",
            "   7.7958 211.3375  57.      13.4167  56.4958   7.225   26.55    13.5\n",
            "   8.05     7.7333 110.8833   7.65   227.525   26.2875  14.4542   7.7417\n",
            "   7.8542  26.      13.5     26.2875 151.55    15.2458  49.5042  26.55\n",
            "  52.       9.4833  13.       7.65   227.525   10.5     15.5      7.775\n",
            "  33.       7.0542  13.      13.      53.1      8.6625  21.       7.7375\n",
            "  26.       7.925  211.3375  18.7875   0.      13.      13.      16.1\n",
            "  34.375  512.3292   7.8958   7.8958  30.      78.85   262.375   16.1\n",
            "   7.925   71.      20.25    13.      53.1      7.75    23.      12.475\n",
            "   9.5      7.8958  65.      14.5      7.7958  11.5      8.05    86.5\n",
            "  14.5      7.125    7.2292 120.       7.775   77.9583  39.6      7.75\n",
            "  24.15     8.3625   9.5      7.8542  10.5      7.225   23.       7.75\n",
            "   7.75    12.475    7.7375 211.3375   7.2292  57.      30.      23.45\n",
            "   7.05     7.25     7.4958  29.125   20.575   79.2      7.75    26.\n",
            "  69.55    30.6958   7.8958  13.      25.9292   8.6833   7.2292  24.15\n",
            "  13.      26.25   120.       8.5167   6.975    7.775    0.       7.775\n",
            "  13.      53.1      7.8875  24.15    10.5     31.275    8.05     0.\n",
            "   7.925   37.0042   6.45    27.9     93.5      8.6625   0.      12.475\n",
            "  39.6875   6.95    56.4958  37.0042   7.75    80.      14.4542  18.75\n",
            "   7.2292   7.8542   8.3     83.1583   8.6625   8.05    56.4958  29.7\n",
            "   7.925   10.5     31.       6.4375   8.6625   7.55    69.55     7.8958\n",
            "  33.      89.1042  31.275    7.775   15.2458  39.4     26.       9.35\n",
            " 164.8667  26.55    19.2583   7.2292  14.1083  11.5     25.9292  69.55\n",
            "  13.      13.      13.8583  50.4958   9.5     11.1333   7.8958  52.5542\n",
            "   5.       9.      24.       7.225    9.8458   7.8958   7.8958  83.1583\n",
            "  26.       7.8958  10.5167  10.5      7.05    29.125   13.      30.\n",
            "  23.45    30.       7.75  ]\n"
          ]
        }
      ]
    },
    {
      "cell_type": "code",
      "source": [
        "survived = df['Survived'].values\n",
        "print(survived)"
      ],
      "metadata": {
        "id": "Hua9idopa8ww",
        "outputId": "1ed2383d-7a1a-41bd-dbd0-e61fb2463ec9",
        "colab": {
          "base_uri": "https://localhost:8080/"
        }
      },
      "execution_count": 11,
      "outputs": [
        {
          "output_type": "stream",
          "name": "stdout",
          "text": [
            "[0 1 1 1 0 0 0 0 1 1 1 1 0 0 0 1 0 1 0 1 0 1 1 1 0 1 0 0 1 0 0 1 1 0 0 0 1\n",
            " 0 0 1 0 0 0 1 1 0 0 1 0 0 0 0 1 1 0 1 1 0 1 0 0 1 0 0 0 1 1 0 1 0 0 0 0 0\n",
            " 1 0 0 0 1 1 0 1 1 0 1 1 0 0 1 0 0 0 0 0 0 0 0 1 1 0 0 0 0 0 0 0 1 1 0 1 0\n",
            " 0 0 0 0 0 0 0 0 0 0 0 0 1 0 1 0 1 1 0 0 0 0 1 0 0 1 0 0 0 0 1 1 0 0 0 1 0\n",
            " 0 0 0 1 0 0 0 0 1 0 0 0 0 1 0 0 0 1 1 0 0 0 0 0 1 0 0 0 0 0 0 0 0 0 0 1 1\n",
            " 0 1 1 0 0 1 0 1 1 1 1 0 0 1 0 0 0 0 0 1 0 0 1 1 1 0 1 0 0 0 1 1 0 1 0 1 0\n",
            " 0 0 1 0 1 0 0 0 1 0 0 1 0 0 0 1 0 0 0 1 0 0 0 0 0 1 1 0 0 0 0 0 0 1 1 1 1\n",
            " 1 0 1 0 0 0 0 0 1 1 1 0 1 1 0 1 1 0 0 0 1 0 0 0 1 0 0 1 0 1 1 1 1 0 0 0 0\n",
            " 0 0 1 1 1 1 0 1 0 1 1 1 0 1 1 1 0 0 0 1 1 0 1 1 0 0 1 1 0 1 0 1 1 1 1 0 0\n",
            " 0 1 0 0 1 1 0 1 1 0 0 0 1 1 1 1 0 0 0 0 0 0 0 1 0 1 1 0 0 0 0 0 0 1 1 1 1\n",
            " 1 0 0 0 0 1 1 0 0 0 1 1 0 1 0 0 0 1 0 1 1 1 0 1 1 0 0 0 0 1 1 0 0 0 0 0 0\n",
            " 1 0 0 0 0 1 0 1 0 1 1 0 0 0 0 0 0 0 0 1 1 0 1 1 1 1 0 0 1 0 1 0 0 1 0 0 1\n",
            " 1 1 1 1 1 1 0 0 0 1 0 1 0 1 1 0 1 0 0 0 0 0 0 0 0 1 0 0 1 1 0 0 0 0 0 1 0\n",
            " 0 0 1 1 0 1 0 0 1 0 0 0 0 0 0 1 0 0 0 0 0 0 0 1 0 1 1 0 1 1 0 1 1 0 0 1 0\n",
            " 1 0 1 0 0 1 0 0 1 0 0 0 1 0 0 1 0 1 0 1 0 1 1 0 0 1 0 0 1 1 0 1 1 0 0 1 1\n",
            " 0 1 0 1 1 0 0 0 0 0 0 0 0 0 1 1 1 1 1 0 0 1 1 0 1 1 1 0 0 0 1 0 1 0 0 0 1\n",
            " 0 0 0 0 1 0 0 1 1 0 0 0 1 0 0 1 1 1 0 0 1 0 0 1 0 0 1 0 0 1 1 0 0 0 0 1 0\n",
            " 0 1 0 1 0 0 1 0 0 0 0 0 1 0 1 1 1 0 1 0 1 0 1 0 1 0 0 0 0 0 0 1 0 0 0 1 0\n",
            " 0 0 0 1 1 0 0 1 0 0 0 1 0 1 0 1 0 0 0 0 0 0 0 1 1 1 1 0 0 0 0 1 0 0 1 1 0\n",
            " 0 0 0 1 1 1 1 1 0 1 0 0 0 1 1 0 0 1 0 0 0 1 0 1 1 0 0 1 0 0 0 0 0 0 1 0 0\n",
            " 1 0 1 0 1 0 0 1 0 0 1 1 0 0 1 1 0 0 0 1 0 0 1 1 0 1 0 0 0 0 0 0 0 0 1 0 0\n",
            " 1 0 1 1 1 0 0 0 0 1 0 1 0 0 0 0 0 0 0 1 1 0 0 0 1 1 1 1 0 0 0 0 1 0 0 0 0\n",
            " 0 0 0 0 0 0 1 1 0 1 0 0 0 1 1 1 1 1 0 0 0 1 0 0 1 1 0 0 1 0 0 0 0 0 0 1 0\n",
            " 0 0 1 0 1 1 1 1 0 0 0 1 0 0 1 1 0 0 1 0 1 0 0 1 1 0 0 0 1 1 0 0 0 0 0 0 1\n",
            " 0 1 0]\n"
          ]
        }
      ]
    },
    {
      "cell_type": "code",
      "source": [
        "print(np.mean(ages))\n",
        "print(np.median(fares))\n",
        "print(np.std(ages))\n",
        "print(np.sum(survived))\n",
        "print(np.max(fares))\n"
      ],
      "metadata": {
        "id": "wXYzNNqcbsiq",
        "outputId": "ee72e244-0f42-4819-83ca-df68345bb325",
        "colab": {
          "base_uri": "https://localhost:8080/"
        }
      },
      "execution_count": 14,
      "outputs": [
        {
          "output_type": "stream",
          "name": "stdout",
          "text": [
            "nan\n",
            "14.4542\n",
            "nan\n",
            "342\n",
            "512.3292\n"
          ]
        }
      ]
    },
    {
      "cell_type": "code",
      "source": [
        "print(ages[ages>60])"
      ],
      "metadata": {
        "id": "eCKtzktScPqz",
        "outputId": "5b643f13-16d6-4f72-9581-f7e31d7351ee",
        "colab": {
          "base_uri": "https://localhost:8080/"
        }
      },
      "execution_count": 15,
      "outputs": [
        {
          "output_type": "stream",
          "name": "stdout",
          "text": [
            "[66.  65.  71.  70.5 61.  62.  63.  65.  61.  64.  65.  63.  71.  64.\n",
            " 62.  62.  61.  80.  70.  70.  62.  74. ]\n"
          ]
        }
      ]
    },
    {
      "cell_type": "code",
      "source": [
        "print(fares[survived == 1])\n"
      ],
      "metadata": {
        "id": "pWzQemvbga8J",
        "outputId": "160535ac-25fb-4c0c-c1da-f1bc1181f46a",
        "colab": {
          "base_uri": "https://localhost:8080/"
        }
      },
      "execution_count": 18,
      "outputs": [
        {
          "output_type": "stream",
          "name": "stdout",
          "text": [
            "[ 71.2833   7.925   53.1     11.1333  30.0708  16.7     26.55    16.\n",
            "  13.       7.225   13.       8.0292  35.5     31.3875   7.8792 146.5208\n",
            "   7.75     7.2292  11.2417  41.5792   7.8792   7.75    76.7292  26.\n",
            "  35.5     10.5     27.75    80.      15.2458  10.5      7.925   56.4958\n",
            "  29.      12.475    9.5      7.7875  10.5     15.85   263.      63.3583\n",
            "  23.       7.65     7.775   24.15    13.      11.2417   7.1417  22.3583\n",
            "  26.      26.2833   7.75    15.85     7.7958  66.6      7.7333  15.75\n",
            "  20.525   55.      11.1333  39.      22.025   15.5     26.55    13.\n",
            "   7.8542  26.      27.7208 146.5208   7.75     8.05    18.7875   7.75\n",
            "  31.      21.     113.275    7.925   76.2917   8.05    90.      10.5\n",
            "  83.475   31.3875  26.25    15.5     14.5     52.5542  15.2458  79.2\n",
            "  86.5    512.3292  26.      31.3875   7.775  153.4625 135.6333   0.\n",
            "  19.5      7.75    77.9583  20.25     8.05     9.5     13.       7.75\n",
            "  78.85    91.0792  30.5    247.5208   7.75    23.25    12.35   151.55\n",
            " 110.8833 108.9     56.9292  83.1583 262.375    7.8542  26.     164.8667\n",
            " 134.5     12.35    29.     135.6333  13.      20.525   57.9792  23.25\n",
            " 133.65   134.5      8.05    26.     263.      13.      13.      16.1\n",
            "  15.9     55.       7.8792   7.8792  75.25     7.2292   7.75    69.3\n",
            "  55.4417  82.1708   7.25   227.525   15.7417  52.      13.      12.\n",
            " 120.       7.7958 113.275   16.7     12.65     7.925   18.75    90.\n",
            "   7.925   32.5     13.      26.      26.       8.05    26.55    16.1\n",
            "  26.     120.      18.75    26.25    13.       8.1125  81.8583  19.5\n",
            "  26.55    19.2583  30.5     89.1042   7.8958  51.8625  10.5     26.55\n",
            "  19.2583  27.75    13.7917  12.2875   9.5875  91.0792  90.      15.9\n",
            "  78.2667  86.5     26.      26.55    56.4958   7.75    26.2875  59.4\n",
            "  10.5     26.      93.5     57.9792  10.5     26.      22.3583  26.25\n",
            " 106.425   49.5     71.      26.      26.      13.8625  36.75   110.8833\n",
            "   7.225    7.775   39.6     79.65    17.4      7.8542  10.5     51.4792\n",
            "  26.3875   7.75    13.      55.9      7.925   30.     110.8833  79.65\n",
            "  79.2     78.2667  33.      56.9292  27.      26.55    30.5     41.5792\n",
            " 153.4625  15.5     65.      39.      52.5542  15.7417  77.9583  30.\n",
            "  30.5     13.      69.3     56.4958  19.2583  76.7292  35.5      7.55\n",
            "  23.       7.8292 133.65     7.925   52.      39.      13.       9.8417\n",
            " 512.3292  76.7292 211.3375  57.      13.4167  56.4958   7.7333 227.525\n",
            "  26.2875  13.5     26.2875 151.55    15.2458  49.5042  52.     227.525\n",
            "  10.5     33.      53.1     21.       7.7375 211.3375 512.3292  30.\n",
            " 262.375    7.925   13.      23.      12.475   65.      14.5     86.5\n",
            "   7.2292 120.      77.9583  23.      12.475  211.3375   7.2292  57.\n",
            "   7.4958  20.575   25.9292   8.6833  26.25   120.       8.5167   6.975\n",
            "  53.1     93.5      8.6625  12.475   37.0042   7.75    80.      14.4542\n",
            "  18.75    83.1583  56.4958  29.7     31.      89.1042  39.4      9.35\n",
            " 164.8667  26.55    19.2583  25.9292  13.      13.8583  11.1333  52.5542\n",
            "  24.       7.225   83.1583  26.      30.      30.    ]\n"
          ]
        }
      ]
    },
    {
      "cell_type": "code",
      "source": [
        "print(ages[ages<12])"
      ],
      "metadata": {
        "id": "2UUs3ZyOhKiA",
        "outputId": "7070b638-dc01-4c95-c52c-81260dec5394",
        "colab": {
          "base_uri": "https://localhost:8080/"
        }
      },
      "execution_count": 20,
      "outputs": [
        {
          "output_type": "stream",
          "name": "stdout",
          "text": [
            "[ 2.    4.    2.    8.    3.    7.    5.   11.    4.    0.83  2.    9.\n",
            "  1.    9.    4.    1.    9.    1.    4.    3.    2.    5.    8.    3.\n",
            "  7.    2.    0.92  2.    3.    3.    1.    1.    3.   10.    4.    5.\n",
            "  0.75  2.    9.    9.    2.    7.    9.   11.    8.    4.    9.    2.\n",
            "  0.75  4.    6.   11.    4.    6.    0.67  5.    8.    1.   11.    0.42\n",
            "  6.   10.    2.    1.    0.83  4.    9.    4.  ]\n"
          ]
        }
      ]
    },
    {
      "cell_type": "code",
      "source": [
        "# Create a boolean array where age is not NaN\n",
        "valid_ages = ~np.isnan(ages)\n",
        "\n",
        "# Mean age ignoring NaN values\n",
        "mean_age = np.mean(ages[valid_ages])\n"
      ],
      "metadata": {
        "id": "-aZ32A-wE17q",
        "outputId": "0ef74125-de30-412e-e86c-5b0fb8aeca6b",
        "colab": {
          "base_uri": "https://localhost:8080/",
          "height": 211
        }
      },
      "execution_count": 3,
      "outputs": [
        {
          "output_type": "error",
          "ename": "NameError",
          "evalue": "name 'ages' is not defined",
          "traceback": [
            "\u001b[0;31m---------------------------------------------------------------------------\u001b[0m",
            "\u001b[0;31mNameError\u001b[0m                                 Traceback (most recent call last)",
            "\u001b[0;32m<ipython-input-3-0826ff8d593b>\u001b[0m in \u001b[0;36m<cell line: 0>\u001b[0;34m()\u001b[0m\n\u001b[1;32m      1\u001b[0m \u001b[0;31m# Create a boolean array where age is not NaN\u001b[0m\u001b[0;34m\u001b[0m\u001b[0;34m\u001b[0m\u001b[0m\n\u001b[0;32m----> 2\u001b[0;31m \u001b[0mvalid_ages\u001b[0m \u001b[0;34m=\u001b[0m \u001b[0;34m~\u001b[0m\u001b[0mnp\u001b[0m\u001b[0;34m.\u001b[0m\u001b[0misnan\u001b[0m\u001b[0;34m(\u001b[0m\u001b[0mages\u001b[0m\u001b[0;34m)\u001b[0m\u001b[0;34m\u001b[0m\u001b[0;34m\u001b[0m\u001b[0m\n\u001b[0m\u001b[1;32m      3\u001b[0m \u001b[0;34m\u001b[0m\u001b[0m\n\u001b[1;32m      4\u001b[0m \u001b[0;31m# Mean age ignoring NaN values\u001b[0m\u001b[0;34m\u001b[0m\u001b[0;34m\u001b[0m\u001b[0m\n\u001b[1;32m      5\u001b[0m \u001b[0mmean_age\u001b[0m \u001b[0;34m=\u001b[0m \u001b[0mnp\u001b[0m\u001b[0;34m.\u001b[0m\u001b[0mmean\u001b[0m\u001b[0;34m(\u001b[0m\u001b[0mages\u001b[0m\u001b[0;34m[\u001b[0m\u001b[0mvalid_ages\u001b[0m\u001b[0;34m]\u001b[0m\u001b[0;34m)\u001b[0m\u001b[0;34m\u001b[0m\u001b[0;34m\u001b[0m\u001b[0m\n",
            "\u001b[0;31mNameError\u001b[0m: name 'ages' is not defined"
          ]
        }
      ]
    }
  ]
}